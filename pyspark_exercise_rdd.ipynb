{
  "cells": [
    {
      "cell_type": "markdown",
      "metadata": {
        "id": "view-in-github",
        "colab_type": "text"
      },
      "source": [
        "<a href=\"https://colab.research.google.com/github/sfranchois/pyspark_exercise/blob/main/pyspark_exercise_rdd.ipynb\" target=\"_parent\"><img src=\"https://colab.research.google.com/assets/colab-badge.svg\" alt=\"Open In Colab\"/></a>"
      ]
    },
    {
      "cell_type": "markdown",
      "metadata": {
        "id": "MMCkWQR0NQh-"
      },
      "source": [
        "# PySpark homework assignment\n",
        "\n",
        "## Context\n",
        "\n",
        "The goal of this assignment is to get view on your coding workflow & style.  Your main focus should be creating performant & robust code for data manipulations.  \n",
        "\n",
        "For a homework assignment, we cannot grant you access to our infrastructure (Cloudera data platform on prem: a spark cluster deployment on Yarn).  Since the focus is on development, we provided a template notebook to get up and running very quickly on Google Colab.  \n",
        "\n",
        "You have the freedom to perform this assignment on any spark3+ infrastructure.  If want to use a local or cloud setup, go for it!\n",
        "\n",
        "Some of the tasks are open for interpretation.  This allows us to assess business understanding and relevant field experience.  These tasks are not pass or fail checks.  During the interview we'll ask details about the choice(s) you made.\n",
        "\n",
        "For the assignment, you'll be working with store location data.  You might be familiar with the phrase \"Location, location, location\" from the real-estate context.  The same house can have a different selling price based on the location.  In fast moving consumer goods (FMCG), location is one of the most crucial aspects:\n",
        "\n",
        "* Proximity & accessibility to customers increases convenience\n",
        "* Proximity to competitors increases market pressure\n",
        "* It has impact on the supply chain\n",
        "\n",
        "## Evaluation criteria\n",
        "\n",
        "1. Software engineering\n",
        "   1. Clean code (e.g. using meaningful names)\n",
        "   1. Robust & efficient code\n",
        "   1. Styling (e.g. PEP8, or Google style guide)\n",
        "   1. Documentation(e.g. docstrings)\n",
        "   1. Design (e.g. SOLID principles)\n",
        "1. Workflow\n",
        "   1. How you use Git\n",
        "   1. How you structure your assignment\n",
        "   1. Owning mistakes\n",
        "   1. Rationale for design decisions\n",
        "   1. Making your solution accessible to others\n",
        "1. Business context\n",
        "   1. GDPR\n",
        "   1. Fast moving consumer goods\n",
        "1.(optional: own infra) System engineering\n",
        "   1. What setup did you use?\n",
        "   1. How did you set it up?\n",
        "\n",
        "## Deliverables we expect\n",
        "\n",
        "1. Private GitHub repo\n",
        "   1. Colab allows you to save to GitHub\n",
        "   1. Invite my username to your private repo as contributor\n",
        "1. README.md with relevant content\n",
        "1. Code relevant to the assignment\n"
      ]
    },
    {
      "cell_type": "markdown",
      "source": [
        "# **README**\n",
        "\n",
        "**Platform**\n",
        "\n",
        "MacOS Sonoma 14.3.1\n",
        "\n",
        "\n",
        "**Steps**\n",
        "\n",
        "* clone repo https://github.com/MarkiesFredje/pyspark-exercise\n",
        "* read instructions in notebook\n",
        "* brew install openjdk@11\n",
        "* created virtualenv with pyenv\n",
        "* pip installed jupyter findspark pyarrow pandas keyring\n",
        "* start jupyter-notebook\n",
        "* point env vars to my dirs\n",
        "* set spark local ip env var\n",
        "* implement notebook\n",
        "* uploaded notebook to Google Colab space\n",
        "\n",
        "\n",
        "Initially, the code was written with Pandas DataFrames.\n",
        "I'm on a tight schedule.\n",
        "\n",
        "Setting up Spark inside Colab was done in another way.\n",
        "Java is already installed there, so skipped.\n",
        "\n",
        "Migration to use RDD DataFrames ongoing."
      ],
      "metadata": {
        "id": "Nfewd0VbIBm2"
      }
    },
    {
      "cell_type": "markdown",
      "metadata": {
        "id": "ZWyMNpBNON-p"
      },
      "source": [
        "## Google Colab spark setup"
      ]
    },
    {
      "cell_type": "code",
      "execution_count": 2,
      "metadata": {
        "id": "3RiQgV1aNOJD"
      },
      "outputs": [],
      "source": [
        "# commented out: see below\n",
        "#!apt-get install openjdk-11-jdk-headless -qq > /dev/null\n",
        "#!wget -q https://archive.apache.org/dist/spark/spark-3.4.1/spark-3.4.1-bin-hadoop3.tgz\n",
        "#!tar xzvf spark-3.4.1-bin-hadoop3.tgz\n",
        "!pip install -q findspark pandas pyarrow"
      ]
    },
    {
      "cell_type": "code",
      "source": [
        "from os import environ\n",
        "import findspark\n",
        "import requests\n",
        "import subprocess\n",
        "import os\n",
        "import re\n",
        "import socket\n",
        "import shutil\n",
        "import time\n",
        "import sys\n",
        "\n",
        "def run(cmd):\n",
        "    # run a shell command\n",
        "    try:\n",
        "        # Run the command and capture stdout and stderr\n",
        "        subprocess_output = subprocess.run(cmd, shell=True, check=True, stdout=subprocess.PIPE, stderr=subprocess.STDOUT, text=True)\n",
        "        # Access stdout (stderr redirected to stdout)\n",
        "        stdout_result = subprocess_output.stdout.strip().splitlines()[-1]\n",
        "        # Process the results as needed\n",
        "        print(f'✅ {stdout_result}')\n",
        "        return stdout_result\n",
        "    except subprocess.CalledProcessError as e:\n",
        "        # Handle the error if the command returns a non-zero exit code\n",
        "        print(f\"Command failed with return code {e.returncode}\")\n",
        "        print(\"stdout:\", e.stdout)\n",
        "\n",
        "def is_java_installed():\n",
        "    return shutil.which(\"java\")\n",
        "\n",
        "def install_java():\n",
        "    # Uncomment and modify the desired version\n",
        "    # java_version= 'openjdk-11-jre-headless'\n",
        "    # java_version= 'default-jre'\n",
        "    # java_version= 'openjdk-17-jre-headless'\n",
        "    # java_version= 'openjdk-18-jre-headless'\n",
        "    java_version= 'openjdk-19-jre-headless'\n",
        "    os.environ['JAVA_HOME'] = ' /usr/lib/jvm/java-19-openjdk-amd64'\n",
        "    print(f\"Java not found. Installing {java_version} ... (this might take a while)\")\n",
        "    try:\n",
        "        cmd = f\"apt install -y {java_version}\"\n",
        "        subprocess_output = subprocess.run(cmd, shell=True, check=True, stdout=subprocess.PIPE, stderr=subprocess.STDOUT, text=True)\n",
        "        stdout_result = subprocess_output.stdout\n",
        "        # Process the results as needed\n",
        "        print(f'✅ Done installing Java {java_version}')\n",
        "    except subprocess.CalledProcessError as e:\n",
        "        # Handle the error if the command returns a non-zero exit code\n",
        "        print(f\"Command failed with return code {e.returncode}\")\n",
        "        print(\"stdout:\", e.stdout)\n",
        "\n",
        "print(\"\\n0️⃣   Install Java if not available\")\n",
        "if is_java_installed():\n",
        "    print(\"✅ Java is already installed.\")\n",
        "else:\n",
        "    install_java()\n",
        "\n",
        "print(\"\\n1️⃣   Download and install Hadoop and Spark\")\n",
        "# URL for downloading Hadoop and Spark\n",
        "SPARK_VERSION = \"3.5.1\"\n",
        "HADOOP_SPARK_URL = \"https://dlcdn.apache.org/spark/spark-\" + SPARK_VERSION + \\\n",
        "                   \"/spark-\" + SPARK_VERSION + \"-bin-hadoop3.tgz\"\n",
        "r = requests.head(HADOOP_SPARK_URL)\n",
        "if r.status_code >= 200 and r.status_code < 400:\n",
        "    print(f'✅ {HADOOP_SPARK_URL} was found')\n",
        "else:\n",
        "    SPARK_CDN = \"https://dlcdn.apache.org/spark/\"\n",
        "    print(f'⚠️ {HADOOP_SPARK_URL} was NOT found. \\nCheck for available Spark versions in {SPARK_CDN}')\n",
        "\n",
        "# set some environment variables\n",
        "os.environ['SPARK_HOME'] = os.path.join(os.getcwd(), os.path.splitext(os.path.basename(HADOOP_SPARK_URL))[0])\n",
        "os.environ['PATH'] = ':'.join([os.path.join(os.environ['SPARK_HOME'], 'bin'), os.environ['PATH']])\n",
        "os.environ['PATH'] = ':'.join([os.path.join(os.environ['SPARK_HOME'], 'sbin'), os.environ['PATH']])\n",
        "\n",
        "# download Spark\n",
        "# using --no-clobber option will prevent wget from downloading file if already present\n",
        "# shell command: wget --no-clobber $HADOOP_SPARK_URL\n",
        "cmd = f\"wget --no-clobber {HADOOP_SPARK_URL}\"\n",
        "run(cmd)\n",
        "\n",
        "# uncompress\n",
        "try:\n",
        "    # Run the command and capture stdout and stderr\n",
        "    cmd = \"([ -d $(basename {0}|sed 's/\\.[^.]*$//') ] && echo -n 'Folder already exists') || (tar xzf $(basename {0}) && echo 'Uncompressed Spark distribution')\"\n",
        "    subprocess_output = subprocess.run(cmd.format(HADOOP_SPARK_URL), shell=True, check=True, stdout=subprocess.PIPE, stderr=subprocess.STDOUT, text=True)\n",
        "    # Access stdout (stderr redirected to stdout)\n",
        "    stdout_result = subprocess_output.stdout\n",
        "    # Process the results as needed\n",
        "    print(f'✅ {stdout_result}')\n",
        "\n",
        "except subprocess.CalledProcessError as e:\n",
        "    # Handle the error if the command returns a non-zero exit code\n",
        "    print(f\"Command failed with return code {e.returncode}\")\n",
        "    print(\"stdout:\", e.stdout)\n",
        "\n",
        "\n",
        "print(\"\\n2️⃣   Start Spark engine\")\n",
        "# start master\n",
        "# shell command: $SPARK_HOME/sbin/start-master.sh\n",
        "cmd = os.path.join(os.environ['SPARK_HOME'], 'sbin', 'stop-master.sh')\n",
        "run(cmd)\n",
        "cmd = os.path.join(os.environ['SPARK_HOME'], 'sbin', 'start-master.sh')\n",
        "out = run(cmd)\n",
        "\n",
        "# start one worker (first stop it in case it's already running)\n",
        "# shell command: $SPARK_HOME/sbin/start-worker.sh spark://${HOSTNAME}:7077\n",
        "cmd = [os.path.join(os.environ['SPARK_HOME'], 'sbin', 'stop-worker.sh')]\n",
        "run(cmd)\n",
        "cmd = os.path.join(os.environ['SPARK_HOME'], 'sbin', 'start-worker.sh') + ' ' + 'spark://'+socket.gethostname()+':7077'\n",
        "run(cmd)\n",
        "\n",
        "print(\"\\n3️⃣   Start Master Web UI\")\n",
        "# get master UI's port number\n",
        "# the subprocess that's starting the master with start-master.sh\n",
        "# might still not be ready with assigning the port number at this point\n",
        "# therefore we check the logfile a few times (attempts=5) to see if the port\n",
        "# has been assigned. This might take 1-2 seconds.\n",
        "\n",
        "master_log = out.partition(\"logging to\")[2].strip()\n",
        "print(\"Search for port number in log file {}\".format(master_log))\n",
        "attempts = 10\n",
        "search_pattern = \"Successfully started service 'MasterUI' on port (\\d+)\"\n",
        "found = False\n",
        "for i in range(attempts):\n",
        "  if not found:\n",
        "   with open(master_log) as log:\n",
        "      found = re.search(search_pattern, log.read())\n",
        "      if found:\n",
        "          webUIport = found.group(1)\n",
        "          print(f\"✅ Master UI is available at localhost:{webUIport} (attempt nr. {i})\")\n",
        "          break\n",
        "      else:\n",
        "          time.sleep(2) # need to try until port information is found in the logfile\n",
        "          i+=1\n",
        "if not found:\n",
        "  print(\"Could not find port for Master Web UI\\n\")\n",
        "\n",
        "IN_COLAB = 'google.colab' in sys.modules\n",
        "if IN_COLAB:\n",
        "    # serve the Web UI on Colab\n",
        "    print(\"Click on the link below to open the Spark Web UI 🚀\")\n",
        "    from google.colab import output\n",
        "    output.serve_kernel_port_as_window(webUIport)\n",
        "\n",
        "print(\"\\n4️⃣   Start history server\")\n",
        "# start history server\n",
        "# shell command: mkdir -p /tmp/spark-events\n",
        "# shell command: $SPARK_HOME/sbin/start-history-server.sh\n",
        "spark_events_dir = os.path.join('/tmp', 'spark-events')\n",
        "if not os.path.exists(spark_events_dir):\n",
        "    os.mkdir(spark_events_dir)\n",
        "cmd = os.path.join(os.environ['SPARK_HOME'], 'sbin', 'stop-history-server.sh')\n",
        "run(cmd)\n",
        "cmd = os.path.join(os.environ['SPARK_HOME'], 'sbin', 'start-history-server.sh')\n",
        "run(cmd)\n",
        "\n",
        "if IN_COLAB:\n",
        "    # serve the History Server\n",
        "    print(\"Click on the link below to open the Spark History Server Web UI 🚀\")\n",
        "    output.serve_kernel_port_as_window(18080)\n"
      ],
      "metadata": {
        "id": "j0ya6VMzXbKe",
        "outputId": "66d72b59-0e89-451e-f2be-09d5c27609eb",
        "colab": {
          "base_uri": "https://localhost:8080/",
          "height": 498
        }
      },
      "execution_count": 3,
      "outputs": [
        {
          "output_type": "stream",
          "name": "stdout",
          "text": [
            "\n",
            "0️⃣   Install Java if not available\n",
            "✅ Java is already installed.\n",
            "\n",
            "1️⃣   Download and install Hadoop and Spark\n",
            "✅ https://dlcdn.apache.org/spark/spark-3.5.1/spark-3.5.1-bin-hadoop3.tgz was found\n",
            "✅ 2024-03-14 08:47:20 (150 MB/s) - ‘spark-3.5.1-bin-hadoop3.tgz’ saved [400446614/400446614]\n",
            "✅ Uncompressed Spark distribution\n",
            "\n",
            "\n",
            "2️⃣   Start Spark engine\n",
            "✅ no org.apache.spark.deploy.master.Master to stop\n",
            "✅ starting org.apache.spark.deploy.master.Master, logging to /content/spark-3.5.1-bin-hadoop3/logs/spark--org.apache.spark.deploy.master.Master-1-c85129298a8d.out\n",
            "✅ no org.apache.spark.deploy.worker.Worker to stop\n",
            "✅ starting org.apache.spark.deploy.worker.Worker, logging to /content/spark-3.5.1-bin-hadoop3/logs/spark--org.apache.spark.deploy.worker.Worker-1-c85129298a8d.out\n",
            "\n",
            "3️⃣   Start Master Web UI\n",
            "Search for port number in log file /content/spark-3.5.1-bin-hadoop3/logs/spark--org.apache.spark.deploy.master.Master-1-c85129298a8d.out\n",
            "✅ Master UI is available at localhost:8081 (attempt nr. 1)\n",
            "Click on the link below to open the Spark Web UI 🚀\n"
          ]
        },
        {
          "output_type": "display_data",
          "data": {
            "text/plain": [
              "<IPython.core.display.Javascript object>"
            ],
            "application/javascript": [
              "(async (port, path, text, element) => {\n",
              "    if (!google.colab.kernel.accessAllowed) {\n",
              "      return;\n",
              "    }\n",
              "    element.appendChild(document.createTextNode(''));\n",
              "    const url = await google.colab.kernel.proxyPort(port);\n",
              "    const anchor = document.createElement('a');\n",
              "    anchor.href = new URL(path, url).toString();\n",
              "    anchor.target = '_blank';\n",
              "    anchor.setAttribute('data-href', url + path);\n",
              "    anchor.textContent = text;\n",
              "    element.appendChild(anchor);\n",
              "  })(8081, \"/\", \"https://localhost:8081/\", window.element)"
            ]
          },
          "metadata": {}
        },
        {
          "output_type": "stream",
          "name": "stdout",
          "text": [
            "\n",
            "4️⃣   Start history server\n",
            "✅ no org.apache.spark.deploy.history.HistoryServer to stop\n",
            "✅ starting org.apache.spark.deploy.history.HistoryServer, logging to /content/spark-3.5.1-bin-hadoop3/logs/spark--org.apache.spark.deploy.history.HistoryServer-1-c85129298a8d.out\n",
            "Click on the link below to open the Spark History Server Web UI 🚀\n"
          ]
        },
        {
          "output_type": "display_data",
          "data": {
            "text/plain": [
              "<IPython.core.display.Javascript object>"
            ],
            "application/javascript": [
              "(async (port, path, text, element) => {\n",
              "    if (!google.colab.kernel.accessAllowed) {\n",
              "      return;\n",
              "    }\n",
              "    element.appendChild(document.createTextNode(''));\n",
              "    const url = await google.colab.kernel.proxyPort(port);\n",
              "    const anchor = document.createElement('a');\n",
              "    anchor.href = new URL(path, url).toString();\n",
              "    anchor.target = '_blank';\n",
              "    anchor.setAttribute('data-href', url + path);\n",
              "    anchor.textContent = text;\n",
              "    element.appendChild(anchor);\n",
              "  })(18080, \"/\", \"https://localhost:18080/\", window.element)"
            ]
          },
          "metadata": {}
        }
      ]
    },
    {
      "cell_type": "code",
      "execution_count": 401,
      "metadata": {
        "id": "Cvm3vu7cNSzV"
      },
      "outputs": [],
      "source": [
        "# Setting environment variables\n",
        "# These settings are for MacOS and not needed in Colab\n",
        "#environ[\"JAVA_HOME\"] = \"/usr/local/opt/openjdk@11\"\n",
        "#environ[\"SPARK_HOME\"] = \"./spark-3.4.1-bin-hadoop3\"\n",
        "#environ[\"SPARK_LOCAL_IP\"] = \"10.0.1.10\"\n",
        "\n",
        "environ[\"SPARK_HOME\"]\n",
        "environ[\"PYARROW_IGNORE_TIMEZONE\"] = \"1\""
      ]
    },
    {
      "cell_type": "code",
      "execution_count": 4,
      "metadata": {
        "id": "8y6JdEBrO43D"
      },
      "outputs": [],
      "source": [
        "# Init spark\n",
        "findspark.init()"
      ]
    },
    {
      "cell_type": "code",
      "execution_count": 217,
      "metadata": {
        "colab": {
          "base_uri": "https://localhost:8080/",
          "height": 221
        },
        "id": "o5-SFL47PQfJ",
        "outputId": "b4de2551-d7f7-4cc8-bd2d-f4755cad521c"
      },
      "outputs": [
        {
          "output_type": "execute_result",
          "data": {
            "text/plain": [
              "<pyspark.sql.session.SparkSession at 0x799118e3f250>"
            ],
            "text/html": [
              "\n",
              "            <div>\n",
              "                <p><b>SparkSession - in-memory</b></p>\n",
              "                \n",
              "        <div>\n",
              "            <p><b>SparkContext</b></p>\n",
              "\n",
              "            <p><a href=\"http://c85129298a8d:4040\">Spark UI</a></p>\n",
              "\n",
              "            <dl>\n",
              "              <dt>Version</dt>\n",
              "                <dd><code>v3.5.1</code></dd>\n",
              "              <dt>Master</dt>\n",
              "                <dd><code>local</code></dd>\n",
              "              <dt>AppName</dt>\n",
              "                <dd><code>cg-pyspark-assignment</code></dd>\n",
              "            </dl>\n",
              "        </div>\n",
              "        \n",
              "            </div>\n",
              "        "
            ]
          },
          "metadata": {},
          "execution_count": 217
        }
      ],
      "source": [
        "from pyspark.sql import SparkSession, DataFrame\n",
        "\n",
        "spark = (\n",
        "    SparkSession\n",
        "    .builder\n",
        "    .appName(\"cg-pyspark-assignment\")\n",
        "    .master(\"local\")\n",
        "    .config(\"spark.sql.repl.eagerEval.enabled\", True)\n",
        "    .getOrCreate()\n",
        "  )\n",
        "#spark.sparkContext.setLogLevel(\"INFO\")\n",
        "spark"
      ]
    },
    {
      "cell_type": "code",
      "source": [
        "os.getcwd()"
      ],
      "metadata": {
        "colab": {
          "base_uri": "https://localhost:8080/",
          "height": 35
        },
        "id": "ujJq09H_JUoR",
        "outputId": "75270762-b52a-4984-a1e3-f31eee214f61"
      },
      "execution_count": 6,
      "outputs": [
        {
          "output_type": "execute_result",
          "data": {
            "text/plain": [
              "'/content'"
            ],
            "application/vnd.google.colaboratory.intrinsic+json": {
              "type": "string"
            }
          },
          "metadata": {},
          "execution_count": 6
        }
      ]
    },
    {
      "cell_type": "markdown",
      "metadata": {
        "id": "QWtk5p_punuQ"
      },
      "source": [
        "## Getting the assignment data\n",
        "\n",
        "This will call the api and save the results in current working directory as .json files"
      ]
    },
    {
      "cell_type": "code",
      "execution_count": 7,
      "metadata": {
        "colab": {
          "base_uri": "https://localhost:8080/"
        },
        "id": "Y-UEk918o3Xt",
        "outputId": "5e6d9b78-887b-42f6-da0a-c6aa0bb2430b",
        "scrolled": true
      },
      "outputs": [
        {
          "output_type": "stream",
          "name": "stdout",
          "text": [
            "  % Total    % Received % Xferd  Average Speed   Time    Time     Time  Current\n",
            "                                 Dload  Upload   Total   Spent    Left  Speed\n",
            "100  223k    0  223k    0     0   163k      0 --:--:--  0:00:01 --:--:--  163k\n",
            "  % Total    % Received % Xferd  Average Speed   Time    Time     Time  Current\n",
            "                                 Dload  Upload   Total   Spent    Left  Speed\n",
            "100  146k    0  146k    0     0   183k      0 --:--:-- --:--:-- --:--:--  183k\n",
            "  % Total    % Received % Xferd  Average Speed   Time    Time     Time  Current\n",
            "                                 Dload  Upload   Total   Spent    Left  Speed\n",
            "100  165k    0  165k    0     0   193k      0 --:--:-- --:--:-- --:--:--  193k\n",
            "  % Total    % Received % Xferd  Average Speed   Time    Time     Time  Current\n",
            "                                 Dload  Upload   Total   Spent    Left  Speed\n",
            "100 89162    0 89162    0     0   136k      0 --:--:-- --:--:-- --:--:--  136k\n",
            "  % Total    % Received % Xferd  Average Speed   Time    Time     Time  Current\n",
            "                                 Dload  Upload   Total   Spent    Left  Speed\n",
            "100  240k    0  240k    0     0   278k      0 --:--:-- --:--:-- --:--:--  278k\n"
          ]
        }
      ],
      "source": [
        "!curl https://ecgplacesmw.colruytgroup.com/ecgplacesmw/v3/nl/places/filter/clp-places > clp-places.json\n",
        "!curl https://ecgplacesmw.colruytgroup.com/ecgplacesmw/v3/nl/places/filter/okay-places > okay-places.json\n",
        "!curl https://ecgplacesmw.colruytgroup.com/ecgplacesmw/v3/nl/places/filter/spar-places > spar-places.json\n",
        "!curl https://ecgplacesmw.colruytgroup.com/ecgplacesmw/v3/nl/places/filter/dats-places > dats-places.json\n",
        "!curl https://ecgplacesmw.colruytgroup.com/ecgplacesmw/v3/nl/places/filter/cogo-colpnts > cogo-colpnts.json"
      ]
    },
    {
      "cell_type": "markdown",
      "metadata": {
        "id": "VyvIVnyivCpf"
      },
      "source": [
        "## Assignment instructions\n",
        "\n",
        "1. Download the data from api\n",
        "1. Create a logger object that logs to a file \"assignment.log\"\n",
        "   1. You can add whatever logging config you want or need\n",
        "   1. At least on Filehandler based on instructions\n",
        "1. implement get_data_by_brand function\n",
        "   1. Follow instructions in docstring\n",
        "   1. df_clp code line should work\n",
        "1. No more handholding ... :-)\n",
        "1. Create a single object (dataframe) that:\n",
        "   1. Contains data from **all brands**\n",
        "      1. Not every brand has the same columns!\n",
        "   1. Drop placeSearchOpeningHours\n",
        "   1. You can keep sellingPartners as an array\n",
        "   1. Extract \"postal_code\" from address\n",
        "   1. Create new column \"province\" derived from postal_code\n",
        "   1. Transform geoCoordinates into lat and lon column\n",
        "   1. One-hot-encode the handoverServices\n",
        "   1. Pretend houseNumber and streetName are GDPR sensitive.\n",
        "      1. How would you anonymize this data for unauthorized users?\n",
        "      1. (optional) Implement the above\n",
        "      1. How would you show the real data to authorized users?\n",
        "      1. (optional) Implement the above\n",
        "1. Save the end result as a parquet file\n",
        "   1. (optional)partitioning?\n",
        "\n",
        "**postal_code** logic:\n",
        "* \"Brussel\": 1000-1299  \n",
        "* \"Waals-Brabant\": 1300-1499  \n",
        "* \"Vlaams-Brabant\": 1500-1999, 3000-3499  \n",
        "* \"Antwerpen\": 2000-2999  \n",
        "* \"Limburg\": 3500-3999  \n",
        "* \"Luik\": 4000-4999  \n",
        "* \"Namen\": 5000-5999  \n",
        "* \"Henegouwen\": 6000-6599,7000-7999  \n",
        "* \"Luxemburg\": 6600-6999  \n",
        "* \"West-Vlaanderen\": 8000-8999  \n",
        "* \"Oost-Vlaanderen\": 9000-9999"
      ]
    },
    {
      "cell_type": "markdown",
      "source": [
        "# **Notes**\n",
        "\n",
        "Pandas DataFrames are a different breed than Spark RDD DataFrames.\n",
        "Could not fit Spark in the Google Colab workspace (Free plan) initially using the provided boilerplate.\n",
        "Bootstrap used from https://colab.research.google.com/github/groda/big_data/blob/master/Run_Spark_on_Google_Colab.ipynb\n",
        "\n",
        "Pandas used here FTTB for demonstration purposes. Porting ongoing...\n",
        "\n",
        "references:\n",
        "https://sparkbyexamples.com/pyspark/pyspark-read-json-file-into-dataframe/#read-json-file"
      ],
      "metadata": {
        "id": "xcsS4UIZEtYv"
      }
    },
    {
      "cell_type": "code",
      "execution_count": 227,
      "metadata": {
        "id": "DlsAnfxdxsT3"
      },
      "outputs": [],
      "source": [
        "from logging import basicConfig, getLogger, INFO, Logger, FileHandler, StreamHandler\n",
        "import dataclasses\n",
        "import pandas as pd\n",
        "from typing import List, Dict, Optional\n",
        "from cryptography.fernet import Fernet\n",
        "import pyarrow as pa\n",
        "from abc import ABCMeta\n",
        "from functools import reduce\n",
        "from pyspark.sql.types import (StructType, StructField, StringType,\n",
        "   IntegerType, LongType, DoubleType, ArrayType, BooleanType)\n",
        "from pyspark.sql.functions import lit, expr, col, concat_ws, when, size, udf\n",
        "from pyspark.ml.feature import StringIndexer, OneHotEncoder\n",
        "\n",
        "from google.colab import userdata"
      ]
    },
    {
      "cell_type": "code",
      "source": [
        "class NotebookLogHandler(StreamHandler):\n",
        "    def emit(self, record):\n",
        "        print(self.format(record))"
      ],
      "metadata": {
        "id": "IxpvcCz7jFlu"
      },
      "execution_count": 201,
      "outputs": []
    },
    {
      "cell_type": "code",
      "execution_count": 228,
      "metadata": {
        "id": "ShwdnfjSxm2G",
        "colab": {
          "base_uri": "https://localhost:8080/"
        },
        "outputId": "e2a84c69-9cfd-4fbf-e2d8-cb4523b0b1c4"
      },
      "outputs": [
        {
          "output_type": "stream",
          "name": "stderr",
          "text": [
            "INFO:pyspark_exercise:LOGGER initialised. Logging to assignment.log\n",
            "LOGGER initialised. Logging to assignment.log\n"
          ]
        },
        {
          "output_type": "stream",
          "name": "stdout",
          "text": [
            "LOGGER initialised. Logging to assignment.log\n",
            "LOGGER initialised. Logging to assignment.log\n"
          ]
        },
        {
          "output_type": "stream",
          "name": "stderr",
          "text": [
            "INFO:pyspark_exercise:working dir: /content\n",
            "working dir: /content\n"
          ]
        },
        {
          "output_type": "stream",
          "name": "stdout",
          "text": [
            "working dir: /content\n",
            "working dir: /content\n"
          ]
        }
      ],
      "source": [
        "\n",
        "# open issue: 3x rogue logs to sys.stdout\n",
        "\n",
        "log_filename = 'assignment.log'\n",
        "basicConfig(\n",
        "     level=INFO,\n",
        "     format= '[%(asctime)s] {%(pathname)s:%(lineno)d} %(levelname)s - %(message)s',\n",
        "     datefmt='%H:%M:%S',\n",
        "     handlers=[FileHandler(log_filename), ],\n",
        " )\n",
        "LOGGER = getLogger(\"pyspark_exercise\")\n",
        "LOGGER.setLevel(INFO)\n",
        "\n",
        "LOGGER.info(\"LOGGER initialised. Logging to %s\", log_filename)\n",
        "LOGGER.info(\"working dir: %s\", os.getcwd())"
      ]
    },
    {
      "cell_type": "code",
      "execution_count": 11,
      "metadata": {
        "id": "ogxjFUKfB1AW"
      },
      "outputs": [],
      "source": [
        "@dataclasses.dataclass\n",
        "class BrandInfo:\n",
        "    clp: DataFrame\n",
        "    okay: DataFrame\n",
        "    spar: DataFrame\n",
        "    dats: DataFrame\n",
        "    cogo: DataFrame\n",
        "\n",
        "    df: DataFrame = dataclasses.field(init=False)\n",
        "\n",
        "    AddressType = StructType(\n",
        "    [ StructField('cityName', StringType(), True),\n",
        "      StructField('countryCode', StringType(), True),\n",
        "      StructField('countryName', StringType(), True),\n",
        "      StructField('houseNumber', StringType(), True),\n",
        "      StructField('postalcode', StringType(), True),\n",
        "      StructField('streetName', StringType(), True)])\n",
        "\n",
        "    schema = StructType([StructField('address', AddressType, True),\n",
        "                         StructField('branchId', StringType(), True), StructField('commercialName', StringType(), True),\n",
        "                         StructField('ensign', StructType([StructField('id', LongType(), True),\n",
        "                                                           StructField('name', StringType(), True)]), True),\n",
        "                         StructField('geoCoordinates', StructType([StructField('latitude', DoubleType(), True),\n",
        "                                                                   StructField('longitude', DoubleType(), True)]), True),\n",
        "                         StructField('handoverServices', ArrayType(StringType(), True), True), StructField('isActive', BooleanType(), True),\n",
        "                         StructField('moreInfoUrl', StringType(), True), StructField('placeId', LongType(), True),\n",
        "                         StructField('placeSearchOpeningHours', ArrayType(StructType([StructField('closes', LongType(), True),\n",
        "                                                                                      StructField('date', StringType(), True),\n",
        "                                                                                      StructField('isOpenForTheDay', BooleanType(), True),\n",
        "                                                                                      StructField('isToday', BooleanType(), True),\n",
        "                                                                                      StructField('opens', LongType(), True)]), True), True),\n",
        "                         StructField('placeType', StructType([StructField('id', LongType(), True), StructField('longName', StringType(), True),\n",
        "                                                              StructField('placeTypeDescription', StringType(), True)]), True),\n",
        "                         StructField('routeUrl', StringType(), True), StructField('sellingPartners', ArrayType(StringType(), True), True),\n",
        "                         StructField('sourceStatus', StringType(), True),\n",
        "                         StructField('temporaryClosures', ArrayType(\n",
        "                             StructType([StructField('from', StringType(), True),\n",
        "                                         StructField('till', StringType(), True)]), True), True)])\n",
        "\n",
        "    @classmethod\n",
        "    def load_from_json(cls) -> \"BrandInfo\":\n",
        "        return cls(\n",
        "            clp = spark.read.json(\"clp-places.json\", schema=cls.schema),\n",
        "            okay = spark.read.json(\"okay-places.json\", schema=cls.schema),\n",
        "            spar = spark.read.json(\"spar-places.json\", schema=cls.schema),\n",
        "            dats = spark.read.json(\"dats-places.json\", schema=cls.schema),\n",
        "            cogo = spark.read.json(\"cogo-colpnts.json\", schema=cls.schema)\n",
        "        )\n",
        "\n",
        "    def __post_init__(self) -> None:\n",
        "        self.validate()\n",
        "\n",
        "        self.clp = self.clp.withColumn(\"brand\", lit(\"clp\"))\n",
        "        self.okay = self.okay.withColumn(\"brand\", lit(\"okay\"))\n",
        "        self.spar = self.spar.withColumn(\"brand\", lit(\"spar\"))\n",
        "        self.dats = self.dats.withColumn(\"brand\", lit(\"dats\"))\n",
        "        self.cogo = self.cogo.withColumn(\"brand\", lit(\"cogo\"))\n",
        "\n",
        "        self.df = reduce(lambda a,b: DataFrame.unionByName(a, b, allowMissingColumns=True), self.aslist())\n",
        "\n",
        "\n",
        "    def aslist(self) -> List[DataFrame]:\n",
        "        return [self.clp, self.okay, self.spar, self.dats, self.cogo]\n",
        "\n",
        "    def get_all_columns(self) -> List[str]:\n",
        "        return set().union(\n",
        "            set(self.clp.columns),\n",
        "            set(self.okay.columns),\n",
        "            set(self.spar.columns),\n",
        "            set(self.dats.columns),\n",
        "            set(self.cogo.columns)\n",
        "        )\n",
        "\n",
        "    def get_common_columns(self) -> List[str]:\n",
        "            return self.get_all_columns().intersection(\n",
        "                set(self.clp.columns),\n",
        "                set(self.okay.columns),\n",
        "                set(self.spar.columns),\n",
        "                set(self.dats.columns),\n",
        "                set(self.cogo.columns)\n",
        "            )\n",
        "\n",
        "    def validate(self) -> None:\n",
        "        if any(map(lambda df: df.isEmpty(), self.aslist())):\n",
        "            raise ValueError(\"one or more JSON files have no data\")\n",
        "\n",
        "\n",
        "def load_brand_data() -> BrandInfo:\n",
        "    return BrandInfo.load_from_json()"
      ]
    },
    {
      "cell_type": "code",
      "execution_count": 12,
      "metadata": {
        "id": "_wZhHFGFXkW0"
      },
      "outputs": [],
      "source": [
        "def get_data_by_brand(brand: str, logger: Logger = LOGGER) -> DataFrame:\n",
        "    \"\"\"Fetch input data based on brand.\n",
        "\n",
        "    Please add a column to the data indicating the input brand\n",
        "    Please add minimum one sanity check for loading the data\n",
        "    Please log things you consider relevant\n",
        "\n",
        "    :param brand: allowed values are (clp, okay, spar, dats, cogo)\n",
        "    :param logger: Logger object for logging\n",
        "\n",
        "    :return: The relevant dataframe\n",
        "    \"\"\"\n",
        "    brands = load_brand_data()\n",
        "\n",
        "    logger.info(\"columns found: %s\", brands.get_all_columns())\n",
        "    logger.info(\"common columns : %s\", brands.get_common_columns())\n",
        "\n",
        "    return brands.df.where(brands.df[\"brand\"] == brand)\n"
      ]
    },
    {
      "cell_type": "markdown",
      "source": [
        "# **Load the brand data in memory**"
      ],
      "metadata": {
        "id": "mpjnmBKWKwvB"
      }
    },
    {
      "cell_type": "code",
      "execution_count": 209,
      "metadata": {
        "id": "h-5uaRmBB1AX",
        "colab": {
          "base_uri": "https://localhost:8080/"
        },
        "outputId": "ad3fd00f-428f-4054-f7f5-5927a3f91f8d"
      },
      "outputs": [
        {
          "output_type": "stream",
          "name": "stderr",
          "text": [
            "INFO:pyspark_exercise:columns found: {'brand', 'placeType', 'placeSearchOpeningHours', 'routeUrl', 'sourceStatus', 'placeId', 'ensign', 'address', 'isActive', 'temporaryClosures', 'geoCoordinates', 'commercialName', 'moreInfoUrl', 'sellingPartners', 'handoverServices', 'branchId'}\n",
            "columns found: {'brand', 'placeType', 'placeSearchOpeningHours', 'routeUrl', 'sourceStatus', 'placeId', 'ensign', 'address', 'isActive', 'temporaryClosures', 'geoCoordinates', 'commercialName', 'moreInfoUrl', 'sellingPartners', 'handoverServices', 'branchId'}\n"
          ]
        },
        {
          "output_type": "stream",
          "name": "stdout",
          "text": [
            "columns found: {'brand', 'placeType', 'placeSearchOpeningHours', 'routeUrl', 'sourceStatus', 'placeId', 'ensign', 'address', 'isActive', 'temporaryClosures', 'geoCoordinates', 'commercialName', 'moreInfoUrl', 'sellingPartners', 'handoverServices', 'branchId'}\n",
            "columns found: {'brand', 'placeType', 'placeSearchOpeningHours', 'routeUrl', 'sourceStatus', 'placeId', 'ensign', 'address', 'isActive', 'temporaryClosures', 'geoCoordinates', 'commercialName', 'moreInfoUrl', 'sellingPartners', 'handoverServices', 'branchId'}\n"
          ]
        },
        {
          "output_type": "stream",
          "name": "stderr",
          "text": [
            "INFO:pyspark_exercise:common columns : {'isActive', 'placeType', 'placeSearchOpeningHours', 'routeUrl', 'geoCoordinates', 'commercialName', 'temporaryClosures', 'moreInfoUrl', 'sellingPartners', 'sourceStatus', 'handoverServices', 'placeId', 'ensign', 'address', 'branchId', 'brand'}\n",
            "common columns : {'isActive', 'placeType', 'placeSearchOpeningHours', 'routeUrl', 'geoCoordinates', 'commercialName', 'temporaryClosures', 'moreInfoUrl', 'sellingPartners', 'sourceStatus', 'handoverServices', 'placeId', 'ensign', 'address', 'branchId', 'brand'}\n"
          ]
        },
        {
          "output_type": "stream",
          "name": "stdout",
          "text": [
            "common columns : {'isActive', 'placeType', 'placeSearchOpeningHours', 'routeUrl', 'geoCoordinates', 'commercialName', 'temporaryClosures', 'moreInfoUrl', 'sellingPartners', 'sourceStatus', 'handoverServices', 'placeId', 'ensign', 'address', 'branchId', 'brand'}\n",
            "common columns : {'isActive', 'placeType', 'placeSearchOpeningHours', 'routeUrl', 'geoCoordinates', 'commercialName', 'temporaryClosures', 'moreInfoUrl', 'sellingPartners', 'sourceStatus', 'handoverServices', 'placeId', 'ensign', 'address', 'branchId', 'brand'}\n"
          ]
        }
      ],
      "source": [
        "\n",
        "df_clp = get_data_by_brand(brand=\"clp\", logger=LOGGER)\n"
      ]
    },
    {
      "cell_type": "code",
      "execution_count": 14,
      "metadata": {
        "colab": {
          "base_uri": "https://localhost:8080/",
          "height": 876
        },
        "id": "FVZDSjfBB1AX",
        "outputId": "412582d6-1c49-4837-c6f2-3567e3ad024f"
      },
      "outputs": [
        {
          "output_type": "execute_result",
          "data": {
            "text/plain": [
              "+--------------------+--------+--------------------+-----------------+--------------------+--------------------+--------+--------------------+-------+-------------------+--------------------+-------------------+------------+--------------------+-----+\n",
              "|             address|branchId|      commercialName|           ensign|      geoCoordinates|    handoverServices|isActive|         moreInfoUrl|placeId|          placeType|            routeUrl|    sellingPartners|sourceStatus|   temporaryClosures|brand|\n",
              "+--------------------+--------+--------------------+-----------------+--------------------+--------------------+--------+--------------------+-------+-------------------+--------------------+-------------------+------------+--------------------+-----+\n",
              "|{AALST, BE, Belgi...|    4156|     AALST (COLRUYT)|{8, COLR_Colruyt}|{50.933074, 4.053...|[CSOP_ORDERABLE, ...|    true|https://www.colru...|    902|{1, Winkel, Winkel}|https://maps.appl...|[QUALITY, 3RDPARTY]|          AC|                  []|  clp|\n",
              "|{AALTER, BE, Belg...|    4218|    AALTER (COLRUYT)|{8, COLR_Colruyt}|{51.0784761, 3.45...|[CSOP_ORDERABLE, ...|    true|https://www.colru...|    946|{1, Winkel, Winkel}|https://maps.appl...|[QUALITY, 3RDPARTY]|          AC|                  []|  clp|\n",
              "|{AARSCHOT, BE, Be...|    4222|  AARSCHOT (COLRUYT)|{8, COLR_Colruyt}|{50.9760369, 4.81...|[CSOP_ORDERABLE, ...|    true|https://www.colru...|    950|{1, Winkel, Winkel}|https://maps.appl...|[QUALITY, 3RDPARTY]|          AC|                  []|  clp|\n",
              "|{ALSEMBERG, BE, B...|    4138| ALSEMBERG (COLRUYT)|{8, COLR_Colruyt}|{50.7415212, 4.33...|[CSOP_ORDERABLE, ...|    true|https://www.colru...|    886|{1, Winkel, Winkel}|https://maps.appl...|[QUALITY, 3RDPARTY]|          AC|                  []|  clp|\n",
              "|{AMAY, BE, België...|    3853|      AMAY (COLRUYT)|{8, COLR_Colruyt}|{50.5599284, 5.30...|[CSOP_ORDERABLE, ...|    true|https://www.colru...|    783|{1, Winkel, Winkel}|https://maps.appl...|[QUALITY, 3RDPARTY]|          AC|                  []|  clp|\n",
              "|{ANDENNE, BE, Bel...|    3596|   ANDENNE (COLRUYT)|{8, COLR_Colruyt}|{50.4917055, 5.09...|[CSOP_ORDERABLE, ...|    true|https://www.colru...|    650|{1, Winkel, Winkel}|https://maps.appl...|[QUALITY, 3RDPARTY]|          AC|                  []|  clp|\n",
              "|{ANDERLECHT, BE, ...|    3620|ANDERLECHT (HERBE...|{8, COLR_Colruyt}|{50.8439965, 4.30...|[CSOP_ORDERABLE, ...|    true|https://www.colru...|    669|{1, Winkel, Winkel}|https://maps.appl...|[QUALITY, 3RDPARTY]|          AC|                  []|  clp|\n",
              "|{ANDERLECHT, BE, ...|    3759|ANDERLECHT (VEEWE...|{8, COLR_Colruyt}|{50.8275378372, 4...|[CSOP_ORDERABLE, ...|    true|https://www.colru...|    744|{1, Winkel, Winkel}|https://maps.appl...|[QUALITY, 3RDPARTY]|          AC|                  []|  clp|\n",
              "|{ANDERLUES, BE, B...|    3074| ANDERLUES (COLRUYT)|{8, COLR_Colruyt}|{50.401257, 4.279...|    [CSOP_ORDERABLE]|   false|https://www.colru...|    448|{1, Winkel, Winkel}|https://maps.appl...|          [QUALITY]|          IN|[{04-03-2024, 17-...|  clp|\n",
              "|{ANS, BE, België,...|    3644|       ANS (COLRUYT)|{8, COLR_Colruyt}|{50.6588119, 5.53...|[CSOP_ORDERABLE, ...|    true|https://www.colru...|    681|{1, Winkel, Winkel}|https://maps.appl...|[QUALITY, 3RDPARTY]|          AC|                  []|  clp|\n",
              "|{ANTOING, BE, Bel...|    4128|   ANTOING (COLRUYT)|{8, COLR_Colruyt}|{50.5656778, 3.45...|[CSOP_ORDERABLE, ...|    true|https://www.colru...|    880|{1, Winkel, Winkel}|https://maps.appl...|[QUALITY, 3RDPARTY]|          AC|                  []|  clp|\n",
              "|{ANTWERPEN 1, BE,...|    3573|CADI ANTWERPEN LA...|{8, COLR_Colruyt}|{51.2011247, 4.39...|[PREPAID_PARCEL, ...|    true|https://www.colru...|    636|{1, Winkel, Winkel}|https://maps.appl...|[QUALITY, 3RDPARTY]|          AC|                  []|  clp|\n",
              "|{ANTWERPEN 1, BE,...|    7477|ANTWERPEN GENTPLA...|{8, COLR_Colruyt}|{51.2060004, 4.38...|[CSOP_ORDERABLE, ...|    true|https://www.colru...|   2781|{1, Winkel, Winkel}|https://maps.appl...|[QUALITY, 3RDPARTY]|          AC|                  []|  clp|\n",
              "|{ANTWERPEN 5, BE,...|    7190|LINKEROEVER (COLR...|{8, COLR_Colruyt}|{51.2198341, 4.36...|[CSOP_ORDERABLE, ...|    true|https://www.colru...|   2643|{1, Winkel, Winkel}|https://maps.appl...|[QUALITY, 3RDPARTY]|          AC|                  []|  clp|\n",
              "|{ARLON, BE, Belgi...|    3266|     ARLON (COLRUYT)|{8, COLR_Colruyt}|{49.6832331, 5.79...|[CSOP_ORDERABLE, ...|    true|https://www.colru...|    538|{1, Winkel, Winkel}|https://maps.appl...|[QUALITY, 3RDPARTY]|          AC|                  []|  clp|\n",
              "|{ASSE, BE, België...|    3083|      ASSE (COLRUYT)|{8, COLR_Colruyt}|{50.9165932, 4.18...|[PREPAID_PARCEL, ...|    true|https://www.colru...|    454|{1, Winkel, Winkel}|https://maps.appl...|[QUALITY, 3RDPARTY]|          AC|                  []|  clp|\n",
              "|{ASSEBROEK, BE, B...|    4050| ASSEBROEK (COLRUYT)|{8, COLR_Colruyt}|{51.207433, 3.241...|[CSOP_ORDERABLE, ...|    true|https://www.colru...|    833|{1, Winkel, Winkel}|https://maps.appl...|[QUALITY, 3RDPARTY]|          AC|                  []|  clp|\n",
              "|{ATH, BE, België,...|    3547|       ATH (COLRUYT)|{8, COLR_Colruyt}|{50.633502, 3.788...|[CSOP_ORDERABLE, ...|    true|https://www.colru...|    621|{1, Winkel, Winkel}|https://maps.appl...|[QUALITY, 3RDPARTY]|          AC|                  []|  clp|\n",
              "|{AVELGEM, BE, Bel...|    3582|   AVELGEM (COLRUYT)|{8, COLR_Colruyt}|{50.764426, 3.439...|[CSOP_ORDERABLE, ...|    true|https://www.colru...|    640|{1, Winkel, Winkel}|https://maps.appl...|[QUALITY, 3RDPARTY]|          AC|                  []|  clp|\n",
              "|{AVERBODE, BE, Be...|    4263|  AVERBODE (COLRUYT)|{8, COLR_Colruyt}|{51.026757, 4.982...|[CSOP_ORDERABLE, ...|    true|https://www.colru...|    974|{1, Winkel, Winkel}|https://maps.appl...|[QUALITY, 3RDPARTY]|          AC|                  []|  clp|\n",
              "+--------------------+--------+--------------------+-----------------+--------------------+--------------------+--------+--------------------+-------+-------------------+--------------------+-------------------+------------+--------------------+-----+\n",
              "only showing top 20 rows"
            ],
            "text/html": [
              "<table border='1'>\n",
              "<tr><th>address</th><th>branchId</th><th>commercialName</th><th>ensign</th><th>geoCoordinates</th><th>handoverServices</th><th>isActive</th><th>moreInfoUrl</th><th>placeId</th><th>placeType</th><th>routeUrl</th><th>sellingPartners</th><th>sourceStatus</th><th>temporaryClosures</th><th>brand</th></tr>\n",
              "<tr><td>{AALST, BE, Belgi...</td><td>4156</td><td>AALST (COLRUYT)</td><td>{8, COLR_Colruyt}</td><td>{50.933074, 4.053...</td><td>[CSOP_ORDERABLE, ...</td><td>true</td><td>https://www.colru...</td><td>902</td><td>{1, Winkel, Winkel}</td><td>https://maps.appl...</td><td>[QUALITY, 3RDPARTY]</td><td>AC</td><td>[]</td><td>clp</td></tr>\n",
              "<tr><td>{AALTER, BE, Belg...</td><td>4218</td><td>AALTER (COLRUYT)</td><td>{8, COLR_Colruyt}</td><td>{51.0784761, 3.45...</td><td>[CSOP_ORDERABLE, ...</td><td>true</td><td>https://www.colru...</td><td>946</td><td>{1, Winkel, Winkel}</td><td>https://maps.appl...</td><td>[QUALITY, 3RDPARTY]</td><td>AC</td><td>[]</td><td>clp</td></tr>\n",
              "<tr><td>{AARSCHOT, BE, Be...</td><td>4222</td><td>AARSCHOT (COLRUYT)</td><td>{8, COLR_Colruyt}</td><td>{50.9760369, 4.81...</td><td>[CSOP_ORDERABLE, ...</td><td>true</td><td>https://www.colru...</td><td>950</td><td>{1, Winkel, Winkel}</td><td>https://maps.appl...</td><td>[QUALITY, 3RDPARTY]</td><td>AC</td><td>[]</td><td>clp</td></tr>\n",
              "<tr><td>{ALSEMBERG, BE, B...</td><td>4138</td><td>ALSEMBERG (COLRUYT)</td><td>{8, COLR_Colruyt}</td><td>{50.7415212, 4.33...</td><td>[CSOP_ORDERABLE, ...</td><td>true</td><td>https://www.colru...</td><td>886</td><td>{1, Winkel, Winkel}</td><td>https://maps.appl...</td><td>[QUALITY, 3RDPARTY]</td><td>AC</td><td>[]</td><td>clp</td></tr>\n",
              "<tr><td>{AMAY, BE, Belgi&euml;...</td><td>3853</td><td>AMAY (COLRUYT)</td><td>{8, COLR_Colruyt}</td><td>{50.5599284, 5.30...</td><td>[CSOP_ORDERABLE, ...</td><td>true</td><td>https://www.colru...</td><td>783</td><td>{1, Winkel, Winkel}</td><td>https://maps.appl...</td><td>[QUALITY, 3RDPARTY]</td><td>AC</td><td>[]</td><td>clp</td></tr>\n",
              "<tr><td>{ANDENNE, BE, Bel...</td><td>3596</td><td>ANDENNE (COLRUYT)</td><td>{8, COLR_Colruyt}</td><td>{50.4917055, 5.09...</td><td>[CSOP_ORDERABLE, ...</td><td>true</td><td>https://www.colru...</td><td>650</td><td>{1, Winkel, Winkel}</td><td>https://maps.appl...</td><td>[QUALITY, 3RDPARTY]</td><td>AC</td><td>[]</td><td>clp</td></tr>\n",
              "<tr><td>{ANDERLECHT, BE, ...</td><td>3620</td><td>ANDERLECHT (HERBE...</td><td>{8, COLR_Colruyt}</td><td>{50.8439965, 4.30...</td><td>[CSOP_ORDERABLE, ...</td><td>true</td><td>https://www.colru...</td><td>669</td><td>{1, Winkel, Winkel}</td><td>https://maps.appl...</td><td>[QUALITY, 3RDPARTY]</td><td>AC</td><td>[]</td><td>clp</td></tr>\n",
              "<tr><td>{ANDERLECHT, BE, ...</td><td>3759</td><td>ANDERLECHT (VEEWE...</td><td>{8, COLR_Colruyt}</td><td>{50.8275378372, 4...</td><td>[CSOP_ORDERABLE, ...</td><td>true</td><td>https://www.colru...</td><td>744</td><td>{1, Winkel, Winkel}</td><td>https://maps.appl...</td><td>[QUALITY, 3RDPARTY]</td><td>AC</td><td>[]</td><td>clp</td></tr>\n",
              "<tr><td>{ANDERLUES, BE, B...</td><td>3074</td><td>ANDERLUES (COLRUYT)</td><td>{8, COLR_Colruyt}</td><td>{50.401257, 4.279...</td><td>[CSOP_ORDERABLE]</td><td>false</td><td>https://www.colru...</td><td>448</td><td>{1, Winkel, Winkel}</td><td>https://maps.appl...</td><td>[QUALITY]</td><td>IN</td><td>[{04-03-2024, 17-...</td><td>clp</td></tr>\n",
              "<tr><td>{ANS, BE, Belgi&euml;,...</td><td>3644</td><td>ANS (COLRUYT)</td><td>{8, COLR_Colruyt}</td><td>{50.6588119, 5.53...</td><td>[CSOP_ORDERABLE, ...</td><td>true</td><td>https://www.colru...</td><td>681</td><td>{1, Winkel, Winkel}</td><td>https://maps.appl...</td><td>[QUALITY, 3RDPARTY]</td><td>AC</td><td>[]</td><td>clp</td></tr>\n",
              "<tr><td>{ANTOING, BE, Bel...</td><td>4128</td><td>ANTOING (COLRUYT)</td><td>{8, COLR_Colruyt}</td><td>{50.5656778, 3.45...</td><td>[CSOP_ORDERABLE, ...</td><td>true</td><td>https://www.colru...</td><td>880</td><td>{1, Winkel, Winkel}</td><td>https://maps.appl...</td><td>[QUALITY, 3RDPARTY]</td><td>AC</td><td>[]</td><td>clp</td></tr>\n",
              "<tr><td>{ANTWERPEN 1, BE,...</td><td>3573</td><td>CADI ANTWERPEN LA...</td><td>{8, COLR_Colruyt}</td><td>{51.2011247, 4.39...</td><td>[PREPAID_PARCEL, ...</td><td>true</td><td>https://www.colru...</td><td>636</td><td>{1, Winkel, Winkel}</td><td>https://maps.appl...</td><td>[QUALITY, 3RDPARTY]</td><td>AC</td><td>[]</td><td>clp</td></tr>\n",
              "<tr><td>{ANTWERPEN 1, BE,...</td><td>7477</td><td>ANTWERPEN GENTPLA...</td><td>{8, COLR_Colruyt}</td><td>{51.2060004, 4.38...</td><td>[CSOP_ORDERABLE, ...</td><td>true</td><td>https://www.colru...</td><td>2781</td><td>{1, Winkel, Winkel}</td><td>https://maps.appl...</td><td>[QUALITY, 3RDPARTY]</td><td>AC</td><td>[]</td><td>clp</td></tr>\n",
              "<tr><td>{ANTWERPEN 5, BE,...</td><td>7190</td><td>LINKEROEVER (COLR...</td><td>{8, COLR_Colruyt}</td><td>{51.2198341, 4.36...</td><td>[CSOP_ORDERABLE, ...</td><td>true</td><td>https://www.colru...</td><td>2643</td><td>{1, Winkel, Winkel}</td><td>https://maps.appl...</td><td>[QUALITY, 3RDPARTY]</td><td>AC</td><td>[]</td><td>clp</td></tr>\n",
              "<tr><td>{ARLON, BE, Belgi...</td><td>3266</td><td>ARLON (COLRUYT)</td><td>{8, COLR_Colruyt}</td><td>{49.6832331, 5.79...</td><td>[CSOP_ORDERABLE, ...</td><td>true</td><td>https://www.colru...</td><td>538</td><td>{1, Winkel, Winkel}</td><td>https://maps.appl...</td><td>[QUALITY, 3RDPARTY]</td><td>AC</td><td>[]</td><td>clp</td></tr>\n",
              "<tr><td>{ASSE, BE, Belgi&euml;...</td><td>3083</td><td>ASSE (COLRUYT)</td><td>{8, COLR_Colruyt}</td><td>{50.9165932, 4.18...</td><td>[PREPAID_PARCEL, ...</td><td>true</td><td>https://www.colru...</td><td>454</td><td>{1, Winkel, Winkel}</td><td>https://maps.appl...</td><td>[QUALITY, 3RDPARTY]</td><td>AC</td><td>[]</td><td>clp</td></tr>\n",
              "<tr><td>{ASSEBROEK, BE, B...</td><td>4050</td><td>ASSEBROEK (COLRUYT)</td><td>{8, COLR_Colruyt}</td><td>{51.207433, 3.241...</td><td>[CSOP_ORDERABLE, ...</td><td>true</td><td>https://www.colru...</td><td>833</td><td>{1, Winkel, Winkel}</td><td>https://maps.appl...</td><td>[QUALITY, 3RDPARTY]</td><td>AC</td><td>[]</td><td>clp</td></tr>\n",
              "<tr><td>{ATH, BE, Belgi&euml;,...</td><td>3547</td><td>ATH (COLRUYT)</td><td>{8, COLR_Colruyt}</td><td>{50.633502, 3.788...</td><td>[CSOP_ORDERABLE, ...</td><td>true</td><td>https://www.colru...</td><td>621</td><td>{1, Winkel, Winkel}</td><td>https://maps.appl...</td><td>[QUALITY, 3RDPARTY]</td><td>AC</td><td>[]</td><td>clp</td></tr>\n",
              "<tr><td>{AVELGEM, BE, Bel...</td><td>3582</td><td>AVELGEM (COLRUYT)</td><td>{8, COLR_Colruyt}</td><td>{50.764426, 3.439...</td><td>[CSOP_ORDERABLE, ...</td><td>true</td><td>https://www.colru...</td><td>640</td><td>{1, Winkel, Winkel}</td><td>https://maps.appl...</td><td>[QUALITY, 3RDPARTY]</td><td>AC</td><td>[]</td><td>clp</td></tr>\n",
              "<tr><td>{AVERBODE, BE, Be...</td><td>4263</td><td>AVERBODE (COLRUYT)</td><td>{8, COLR_Colruyt}</td><td>{51.026757, 4.982...</td><td>[CSOP_ORDERABLE, ...</td><td>true</td><td>https://www.colru...</td><td>974</td><td>{1, Winkel, Winkel}</td><td>https://maps.appl...</td><td>[QUALITY, 3RDPARTY]</td><td>AC</td><td>[]</td><td>clp</td></tr>\n",
              "</table>\n",
              "only showing top 20 rows\n"
            ]
          },
          "metadata": {},
          "execution_count": 14
        }
      ],
      "source": [
        "df_clp.drop(\"placeSearchOpeningHours\")"
      ]
    },
    {
      "cell_type": "code",
      "execution_count": 411,
      "metadata": {
        "colab": {
          "base_uri": "https://localhost:8080/",
          "height": 529
        },
        "id": "kvoid9K2B1AY",
        "outputId": "2fb394b7-7a5c-4c20-b288-1d5783380882"
      },
      "outputs": [
        {
          "output_type": "execute_result",
          "data": {
            "text/plain": [
              "+-------------------+\n",
              "|    sellingPartners|\n",
              "+-------------------+\n",
              "|[QUALITY, 3RDPARTY]|\n",
              "|[QUALITY, 3RDPARTY]|\n",
              "|[QUALITY, 3RDPARTY]|\n",
              "|[QUALITY, 3RDPARTY]|\n",
              "|[QUALITY, 3RDPARTY]|\n",
              "|[QUALITY, 3RDPARTY]|\n",
              "|[QUALITY, 3RDPARTY]|\n",
              "|[QUALITY, 3RDPARTY]|\n",
              "|          [QUALITY]|\n",
              "|[QUALITY, 3RDPARTY]|\n",
              "|[QUALITY, 3RDPARTY]|\n",
              "|[QUALITY, 3RDPARTY]|\n",
              "|[QUALITY, 3RDPARTY]|\n",
              "|[QUALITY, 3RDPARTY]|\n",
              "|[QUALITY, 3RDPARTY]|\n",
              "|[QUALITY, 3RDPARTY]|\n",
              "|[QUALITY, 3RDPARTY]|\n",
              "|[QUALITY, 3RDPARTY]|\n",
              "|[QUALITY, 3RDPARTY]|\n",
              "|[QUALITY, 3RDPARTY]|\n",
              "+-------------------+\n",
              "only showing top 20 rows"
            ],
            "text/html": [
              "<table border='1'>\n",
              "<tr><th>sellingPartners</th></tr>\n",
              "<tr><td>[QUALITY, 3RDPARTY]</td></tr>\n",
              "<tr><td>[QUALITY, 3RDPARTY]</td></tr>\n",
              "<tr><td>[QUALITY, 3RDPARTY]</td></tr>\n",
              "<tr><td>[QUALITY, 3RDPARTY]</td></tr>\n",
              "<tr><td>[QUALITY, 3RDPARTY]</td></tr>\n",
              "<tr><td>[QUALITY, 3RDPARTY]</td></tr>\n",
              "<tr><td>[QUALITY, 3RDPARTY]</td></tr>\n",
              "<tr><td>[QUALITY, 3RDPARTY]</td></tr>\n",
              "<tr><td>[QUALITY]</td></tr>\n",
              "<tr><td>[QUALITY, 3RDPARTY]</td></tr>\n",
              "<tr><td>[QUALITY, 3RDPARTY]</td></tr>\n",
              "<tr><td>[QUALITY, 3RDPARTY]</td></tr>\n",
              "<tr><td>[QUALITY, 3RDPARTY]</td></tr>\n",
              "<tr><td>[QUALITY, 3RDPARTY]</td></tr>\n",
              "<tr><td>[QUALITY, 3RDPARTY]</td></tr>\n",
              "<tr><td>[QUALITY, 3RDPARTY]</td></tr>\n",
              "<tr><td>[QUALITY, 3RDPARTY]</td></tr>\n",
              "<tr><td>[QUALITY, 3RDPARTY]</td></tr>\n",
              "<tr><td>[QUALITY, 3RDPARTY]</td></tr>\n",
              "<tr><td>[QUALITY, 3RDPARTY]</td></tr>\n",
              "</table>\n",
              "only showing top 20 rows\n"
            ]
          },
          "metadata": {},
          "execution_count": 411
        }
      ],
      "source": [
        "df_clp[[\"sellingPartners\"]]"
      ]
    },
    {
      "cell_type": "code",
      "execution_count": 412,
      "metadata": {
        "id": "HTW4C7GPB1AY"
      },
      "outputs": [],
      "source": [
        "# extract the postal code in separate field\n",
        "df_clp = df_clp.withColumn(\"postalcode\", df_clp[\"address.postalCode\"].cast(IntegerType()))"
      ]
    },
    {
      "cell_type": "code",
      "execution_count": 413,
      "metadata": {
        "id": "Sv6RZeF0B1AY"
      },
      "outputs": [],
      "source": [
        "postal_code_mapping = {\n",
        "    (1000,1299) : \"Brussel\",\n",
        "    (1300,1499) : \"Waals-Brabant\",\n",
        "    (1500,1999) : \"Vlaams-Brabant\",\n",
        "    (3000,3499) : \"Vlaams-Brabant\",\n",
        "    (2000,2999) : \"Antwerpen\",\n",
        "    (3500,3999) : \"Limburg\",\n",
        "    (4000,4999) : \"Luik\",\n",
        "    (5000,5999) : \"Namen\",\n",
        "    (6000,6599) : \"Henegouwen\",\n",
        "    (7000,7999) : \"Henegouwen\",\n",
        "    (6600,6999) : \"Luxemburg\",\n",
        "    (8000,8999) : \"West-Vlaanderen\",\n",
        "    (9000,9999) : \"Oost-Vlaanderen\",\n",
        "}\n",
        "bins = list(postal_code_mapping.keys())\n",
        "label = lambda bin: postal_code_mapping[bin]\n",
        "\n",
        "e = \"case \"\n",
        "for bin in bins[:-1]:\n",
        "    e += f\"when postalCode >= {bin[0]} and postalCode < {bin[1]} then '{label(bin)}' \"\n",
        "e += f\"else '{label(bins[-1])}' end as bin\"\n",
        "\n",
        "# binning the postal codes\n",
        "df_clp = df_clp.withColumn(\"province\", expr(e))"
      ]
    },
    {
      "cell_type": "code",
      "execution_count": 414,
      "metadata": {
        "id": "raCPEOOs8tWU",
        "colab": {
          "base_uri": "https://localhost:8080/",
          "height": 529
        },
        "outputId": "3c961a24-bff6-4d10-ad16-ac8690d12b40"
      },
      "outputs": [
        {
          "output_type": "execute_result",
          "data": {
            "text/plain": [
              "+---------------+----------+\n",
              "|       province|postalcode|\n",
              "+---------------+----------+\n",
              "|Oost-Vlaanderen|      9300|\n",
              "|Oost-Vlaanderen|      9880|\n",
              "| Vlaams-Brabant|      3200|\n",
              "| Vlaams-Brabant|      1652|\n",
              "|           Luik|      4540|\n",
              "|          Namen|      5300|\n",
              "|        Brussel|      1070|\n",
              "|        Brussel|      1070|\n",
              "|     Henegouwen|      6150|\n",
              "|           Luik|      4430|\n",
              "|     Henegouwen|      7640|\n",
              "|      Antwerpen|      2018|\n",
              "|      Antwerpen|      2000|\n",
              "|      Antwerpen|      2050|\n",
              "|      Luxemburg|      6700|\n",
              "| Vlaams-Brabant|      1730|\n",
              "|West-Vlaanderen|      8310|\n",
              "|     Henegouwen|      7800|\n",
              "|West-Vlaanderen|      8580|\n",
              "| Vlaams-Brabant|      3271|\n",
              "+---------------+----------+\n",
              "only showing top 20 rows"
            ],
            "text/html": [
              "<table border='1'>\n",
              "<tr><th>province</th><th>postalcode</th></tr>\n",
              "<tr><td>Oost-Vlaanderen</td><td>9300</td></tr>\n",
              "<tr><td>Oost-Vlaanderen</td><td>9880</td></tr>\n",
              "<tr><td>Vlaams-Brabant</td><td>3200</td></tr>\n",
              "<tr><td>Vlaams-Brabant</td><td>1652</td></tr>\n",
              "<tr><td>Luik</td><td>4540</td></tr>\n",
              "<tr><td>Namen</td><td>5300</td></tr>\n",
              "<tr><td>Brussel</td><td>1070</td></tr>\n",
              "<tr><td>Brussel</td><td>1070</td></tr>\n",
              "<tr><td>Henegouwen</td><td>6150</td></tr>\n",
              "<tr><td>Luik</td><td>4430</td></tr>\n",
              "<tr><td>Henegouwen</td><td>7640</td></tr>\n",
              "<tr><td>Antwerpen</td><td>2018</td></tr>\n",
              "<tr><td>Antwerpen</td><td>2000</td></tr>\n",
              "<tr><td>Antwerpen</td><td>2050</td></tr>\n",
              "<tr><td>Luxemburg</td><td>6700</td></tr>\n",
              "<tr><td>Vlaams-Brabant</td><td>1730</td></tr>\n",
              "<tr><td>West-Vlaanderen</td><td>8310</td></tr>\n",
              "<tr><td>Henegouwen</td><td>7800</td></tr>\n",
              "<tr><td>West-Vlaanderen</td><td>8580</td></tr>\n",
              "<tr><td>Vlaams-Brabant</td><td>3271</td></tr>\n",
              "</table>\n",
              "only showing top 20 rows\n"
            ]
          },
          "metadata": {},
          "execution_count": 414
        }
      ],
      "source": [
        "df_clp[[\"province\", \"postalcode\"]]"
      ]
    },
    {
      "cell_type": "code",
      "execution_count": 415,
      "metadata": {
        "id": "lHc7T703B1AZ"
      },
      "outputs": [],
      "source": [
        "df_clp = df_clp.withColumn(\"lat\", df_clp[\"geoCoordinates.latitude\"].cast(DoubleType())).withColumn(\"lon\", df_clp[\"geoCoordinates.longitude\"].cast(DoubleType()))"
      ]
    },
    {
      "cell_type": "code",
      "execution_count": 416,
      "metadata": {
        "colab": {
          "base_uri": "https://localhost:8080/",
          "height": 529
        },
        "id": "GC9gkSNCB1AZ",
        "outputId": "2dbdcaca-e903-4fa6-e76d-8661c9d6c435"
      },
      "outputs": [
        {
          "output_type": "execute_result",
          "data": {
            "text/plain": [
              "+--------------------+-------------+------------+\n",
              "|      geoCoordinates|          lat|         lon|\n",
              "+--------------------+-------------+------------+\n",
              "|{50.933074, 4.053...|    50.933074|   4.0538972|\n",
              "|{51.0784761, 3.45...|   51.0784761|   3.4500133|\n",
              "|{50.9760369, 4.81...|   50.9760369|   4.8110969|\n",
              "|{50.7415212, 4.33...|   50.7415212|    4.336719|\n",
              "|{50.5599284, 5.30...|   50.5599284|   5.3061951|\n",
              "|{50.4917055, 5.09...|   50.4917055|   5.0930033|\n",
              "|{50.8275378372, 4...|50.8275378372|4.3025743961|\n",
              "|{50.8439965, 4.30...|   50.8439965|   4.3099483|\n",
              "|{50.401257, 4.279...|    50.401257|   4.2797751|\n",
              "|{50.6588119, 5.53...|   50.6588119|   5.5324966|\n",
              "|{50.5656778, 3.45...|   50.5656778|   3.4521636|\n",
              "|{51.2011247, 4.39...|   51.2011247|    4.395306|\n",
              "|{51.2060004, 4.38...|   51.2060004|   4.3872453|\n",
              "|{51.2198341, 4.36...|   51.2198341|    4.363296|\n",
              "|{49.6832331, 5.79...|   49.6832331|    5.799413|\n",
              "|{50.9165932, 4.18...|   50.9165932|    4.189811|\n",
              "|{51.207433, 3.241...|    51.207433|    3.241102|\n",
              "|{50.633502, 3.788...|    50.633502|   3.7882782|\n",
              "|{50.764426, 3.439...|    50.764426|    3.439359|\n",
              "|{51.026757, 4.982...|    51.026757|   4.9826536|\n",
              "+--------------------+-------------+------------+\n",
              "only showing top 20 rows"
            ],
            "text/html": [
              "<table border='1'>\n",
              "<tr><th>geoCoordinates</th><th>lat</th><th>lon</th></tr>\n",
              "<tr><td>{50.933074, 4.053...</td><td>50.933074</td><td>4.0538972</td></tr>\n",
              "<tr><td>{51.0784761, 3.45...</td><td>51.0784761</td><td>3.4500133</td></tr>\n",
              "<tr><td>{50.9760369, 4.81...</td><td>50.9760369</td><td>4.8110969</td></tr>\n",
              "<tr><td>{50.7415212, 4.33...</td><td>50.7415212</td><td>4.336719</td></tr>\n",
              "<tr><td>{50.5599284, 5.30...</td><td>50.5599284</td><td>5.3061951</td></tr>\n",
              "<tr><td>{50.4917055, 5.09...</td><td>50.4917055</td><td>5.0930033</td></tr>\n",
              "<tr><td>{50.8275378372, 4...</td><td>50.8275378372</td><td>4.3025743961</td></tr>\n",
              "<tr><td>{50.8439965, 4.30...</td><td>50.8439965</td><td>4.3099483</td></tr>\n",
              "<tr><td>{50.401257, 4.279...</td><td>50.401257</td><td>4.2797751</td></tr>\n",
              "<tr><td>{50.6588119, 5.53...</td><td>50.6588119</td><td>5.5324966</td></tr>\n",
              "<tr><td>{50.5656778, 3.45...</td><td>50.5656778</td><td>3.4521636</td></tr>\n",
              "<tr><td>{51.2011247, 4.39...</td><td>51.2011247</td><td>4.395306</td></tr>\n",
              "<tr><td>{51.2060004, 4.38...</td><td>51.2060004</td><td>4.3872453</td></tr>\n",
              "<tr><td>{51.2198341, 4.36...</td><td>51.2198341</td><td>4.363296</td></tr>\n",
              "<tr><td>{49.6832331, 5.79...</td><td>49.6832331</td><td>5.799413</td></tr>\n",
              "<tr><td>{50.9165932, 4.18...</td><td>50.9165932</td><td>4.189811</td></tr>\n",
              "<tr><td>{51.207433, 3.241...</td><td>51.207433</td><td>3.241102</td></tr>\n",
              "<tr><td>{50.633502, 3.788...</td><td>50.633502</td><td>3.7882782</td></tr>\n",
              "<tr><td>{50.764426, 3.439...</td><td>50.764426</td><td>3.439359</td></tr>\n",
              "<tr><td>{51.026757, 4.982...</td><td>51.026757</td><td>4.9826536</td></tr>\n",
              "</table>\n",
              "only showing top 20 rows\n"
            ]
          },
          "metadata": {},
          "execution_count": 416
        }
      ],
      "source": [
        "df_clp[['geoCoordinates','lat', 'lon']]"
      ]
    },
    {
      "cell_type": "code",
      "execution_count": 417,
      "metadata": {
        "colab": {
          "base_uri": "https://localhost:8080/",
          "height": 529
        },
        "id": "YvjjIdKSB1AZ",
        "outputId": "ad48ea0f-792f-4117-c342-8939faa0471a"
      },
      "outputs": [
        {
          "output_type": "execute_result",
          "data": {
            "text/plain": [
              "+--------------------+\n",
              "|    handoverServices|\n",
              "+--------------------+\n",
              "|[CSOP_ORDERABLE, ...|\n",
              "|[CSOP_ORDERABLE, ...|\n",
              "|[CSOP_ORDERABLE, ...|\n",
              "|[CSOP_ORDERABLE, ...|\n",
              "|[CSOP_ORDERABLE, ...|\n",
              "|[CSOP_ORDERABLE, ...|\n",
              "|[CSOP_ORDERABLE, ...|\n",
              "|[CSOP_ORDERABLE, ...|\n",
              "|    [CSOP_ORDERABLE]|\n",
              "|[CSOP_ORDERABLE, ...|\n",
              "|[CSOP_ORDERABLE, ...|\n",
              "|[PREPAID_PARCEL, ...|\n",
              "|[CSOP_ORDERABLE, ...|\n",
              "|[CSOP_ORDERABLE, ...|\n",
              "|[CSOP_ORDERABLE, ...|\n",
              "|[PREPAID_PARCEL, ...|\n",
              "|[CSOP_ORDERABLE, ...|\n",
              "|[CSOP_ORDERABLE, ...|\n",
              "|[CSOP_ORDERABLE, ...|\n",
              "|[CSOP_ORDERABLE, ...|\n",
              "+--------------------+\n",
              "only showing top 20 rows"
            ],
            "text/html": [
              "<table border='1'>\n",
              "<tr><th>handoverServices</th></tr>\n",
              "<tr><td>[CSOP_ORDERABLE, ...</td></tr>\n",
              "<tr><td>[CSOP_ORDERABLE, ...</td></tr>\n",
              "<tr><td>[CSOP_ORDERABLE, ...</td></tr>\n",
              "<tr><td>[CSOP_ORDERABLE, ...</td></tr>\n",
              "<tr><td>[CSOP_ORDERABLE, ...</td></tr>\n",
              "<tr><td>[CSOP_ORDERABLE, ...</td></tr>\n",
              "<tr><td>[CSOP_ORDERABLE, ...</td></tr>\n",
              "<tr><td>[CSOP_ORDERABLE, ...</td></tr>\n",
              "<tr><td>[CSOP_ORDERABLE]</td></tr>\n",
              "<tr><td>[CSOP_ORDERABLE, ...</td></tr>\n",
              "<tr><td>[CSOP_ORDERABLE, ...</td></tr>\n",
              "<tr><td>[PREPAID_PARCEL, ...</td></tr>\n",
              "<tr><td>[CSOP_ORDERABLE, ...</td></tr>\n",
              "<tr><td>[CSOP_ORDERABLE, ...</td></tr>\n",
              "<tr><td>[CSOP_ORDERABLE, ...</td></tr>\n",
              "<tr><td>[PREPAID_PARCEL, ...</td></tr>\n",
              "<tr><td>[CSOP_ORDERABLE, ...</td></tr>\n",
              "<tr><td>[CSOP_ORDERABLE, ...</td></tr>\n",
              "<tr><td>[CSOP_ORDERABLE, ...</td></tr>\n",
              "<tr><td>[CSOP_ORDERABLE, ...</td></tr>\n",
              "</table>\n",
              "only showing top 20 rows\n"
            ]
          },
          "metadata": {},
          "execution_count": 417
        }
      ],
      "source": [
        "df_clp[[\"handoverServices\"]]"
      ]
    },
    {
      "cell_type": "code",
      "execution_count": 82,
      "metadata": {
        "colab": {
          "base_uri": "https://localhost:8080/"
        },
        "id": "uBujk-KLB1AZ",
        "outputId": "f0853df2-862d-482a-c9cb-ca3b6e38cd5e"
      },
      "outputs": [
        {
          "output_type": "stream",
          "name": "stdout",
          "text": [
            "+--------------------+--------+--------------------+-----------------+--------------------+--------------------+--------+--------------------+-------+-----------------------+-------------------+--------------------+-------------------+------------+--------------------+-----+--------------------+------------------------+\n",
            "|             address|branchId|      commercialName|           ensign|      geoCoordinates|    handoverServices|isActive|         moreInfoUrl|placeId|placeSearchOpeningHours|          placeType|            routeUrl|    sellingPartners|sourceStatus|   temporaryClosures|brand|handoverServices_str|handoverServices_indexed|\n",
            "+--------------------+--------+--------------------+-----------------+--------------------+--------------------+--------+--------------------+-------+-----------------------+-------------------+--------------------+-------------------+------------+--------------------+-----+--------------------+------------------------+\n",
            "|{AALST, BE, Belgi...|    4156|     AALST (COLRUYT)|{8, COLR_Colruyt}|{50.933074, 4.053...|[CSOP_ORDERABLE, ...|    true|https://www.colru...|    902|   [{2000, 14-03-202...|{1, Winkel, Winkel}|https://maps.appl...|[QUALITY, 3RDPARTY]|          AC|                  []|  clp|CSOP_ORDERABLE,PR...|                     0.0|\n",
            "|{AALTER, BE, Belg...|    4218|    AALTER (COLRUYT)|{8, COLR_Colruyt}|{51.0784761, 3.45...|[CSOP_ORDERABLE, ...|    true|https://www.colru...|    946|   [{2000, 14-03-202...|{1, Winkel, Winkel}|https://maps.appl...|[QUALITY, 3RDPARTY]|          AC|                  []|  clp|CSOP_ORDERABLE,PR...|                     0.0|\n",
            "|{AARSCHOT, BE, Be...|    4222|  AARSCHOT (COLRUYT)|{8, COLR_Colruyt}|{50.9760369, 4.81...|[CSOP_ORDERABLE, ...|    true|https://www.colru...|    950|   [{2000, 14-03-202...|{1, Winkel, Winkel}|https://maps.appl...|[QUALITY, 3RDPARTY]|          AC|                  []|  clp|CSOP_ORDERABLE,PR...|                     0.0|\n",
            "|{ALSEMBERG, BE, B...|    4138| ALSEMBERG (COLRUYT)|{8, COLR_Colruyt}|{50.7415212, 4.33...|[CSOP_ORDERABLE, ...|    true|https://www.colru...|    886|   [{2000, 14-03-202...|{1, Winkel, Winkel}|https://maps.appl...|[QUALITY, 3RDPARTY]|          AC|                  []|  clp|CSOP_ORDERABLE,PR...|                     0.0|\n",
            "|{AMAY, BE, België...|    3853|      AMAY (COLRUYT)|{8, COLR_Colruyt}|{50.5599284, 5.30...|[CSOP_ORDERABLE, ...|    true|https://www.colru...|    783|   [{2000, 14-03-202...|{1, Winkel, Winkel}|https://maps.appl...|[QUALITY, 3RDPARTY]|          AC|                  []|  clp|CSOP_ORDERABLE,PR...|                     0.0|\n",
            "|{ANDENNE, BE, Bel...|    3596|   ANDENNE (COLRUYT)|{8, COLR_Colruyt}|{50.4917055, 5.09...|[CSOP_ORDERABLE, ...|    true|https://www.colru...|    650|   [{2000, 14-03-202...|{1, Winkel, Winkel}|https://maps.appl...|[QUALITY, 3RDPARTY]|          AC|                  []|  clp|CSOP_ORDERABLE,PR...|                     0.0|\n",
            "|{ANDERLECHT, BE, ...|    3620|ANDERLECHT (HERBE...|{8, COLR_Colruyt}|{50.8439965, 4.30...|[CSOP_ORDERABLE, ...|    true|https://www.colru...|    669|   [{2000, 14-03-202...|{1, Winkel, Winkel}|https://maps.appl...|[QUALITY, 3RDPARTY]|          AC|                  []|  clp|CSOP_ORDERABLE,PR...|                     0.0|\n",
            "|{ANDERLECHT, BE, ...|    3759|ANDERLECHT (VEEWE...|{8, COLR_Colruyt}|{50.8275378372, 4...|[CSOP_ORDERABLE, ...|    true|https://www.colru...|    744|   [{2000, 14-03-202...|{1, Winkel, Winkel}|https://maps.appl...|[QUALITY, 3RDPARTY]|          AC|                  []|  clp|CSOP_ORDERABLE,PR...|                     0.0|\n",
            "|{ANDERLUES, BE, B...|    3074| ANDERLUES (COLRUYT)|{8, COLR_Colruyt}|{50.401257, 4.279...|    [CSOP_ORDERABLE]|   false|https://www.colru...|    448|   [{2000, 18-03-202...|{1, Winkel, Winkel}|https://maps.appl...|          [QUALITY]|          IN|[{04-03-2024, 17-...|  clp|      CSOP_ORDERABLE|                     3.0|\n",
            "|{ANS, BE, België,...|    3644|       ANS (COLRUYT)|{8, COLR_Colruyt}|{50.6588119, 5.53...|[CSOP_ORDERABLE, ...|    true|https://www.colru...|    681|   [{2000, 14-03-202...|{1, Winkel, Winkel}|https://maps.appl...|[QUALITY, 3RDPARTY]|          AC|                  []|  clp|CSOP_ORDERABLE,PR...|                     0.0|\n",
            "|{ANTOING, BE, Bel...|    4128|   ANTOING (COLRUYT)|{8, COLR_Colruyt}|{50.5656778, 3.45...|[CSOP_ORDERABLE, ...|    true|https://www.colru...|    880|   [{2000, 14-03-202...|{1, Winkel, Winkel}|https://maps.appl...|[QUALITY, 3RDPARTY]|          AC|                  []|  clp|CSOP_ORDERABLE,PR...|                     0.0|\n",
            "|{ANTWERPEN 1, BE,...|    3573|CADI ANTWERPEN LA...|{8, COLR_Colruyt}|{51.2011247, 4.39...|[PREPAID_PARCEL, ...|    true|https://www.colru...|    636|   [{2000, 14-03-202...|{1, Winkel, Winkel}|https://maps.appl...|[QUALITY, 3RDPARTY]|          AC|                  []|  clp|PREPAID_PARCEL,CS...|                     1.0|\n",
            "|{ANTWERPEN 1, BE,...|    7477|ANTWERPEN GENTPLA...|{8, COLR_Colruyt}|{51.2060004, 4.38...|[CSOP_ORDERABLE, ...|    true|https://www.colru...|   2781|   [{2000, 14-03-202...|{1, Winkel, Winkel}|https://maps.appl...|[QUALITY, 3RDPARTY]|          AC|                  []|  clp|CSOP_ORDERABLE,PR...|                     0.0|\n",
            "|{ANTWERPEN 5, BE,...|    7190|LINKEROEVER (COLR...|{8, COLR_Colruyt}|{51.2198341, 4.36...|[CSOP_ORDERABLE, ...|    true|https://www.colru...|   2643|   [{2000, 14-03-202...|{1, Winkel, Winkel}|https://maps.appl...|[QUALITY, 3RDPARTY]|          AC|                  []|  clp|CSOP_ORDERABLE,PR...|                     0.0|\n",
            "|{ARLON, BE, Belgi...|    3266|     ARLON (COLRUYT)|{8, COLR_Colruyt}|{49.6832331, 5.79...|[CSOP_ORDERABLE, ...|    true|https://www.colru...|    538|   [{2000, 14-03-202...|{1, Winkel, Winkel}|https://maps.appl...|[QUALITY, 3RDPARTY]|          AC|                  []|  clp|CSOP_ORDERABLE,PR...|                     0.0|\n",
            "|{ASSE, BE, België...|    3083|      ASSE (COLRUYT)|{8, COLR_Colruyt}|{50.9165932, 4.18...|[PREPAID_PARCEL, ...|    true|https://www.colru...|    454|   [{2000, 14-03-202...|{1, Winkel, Winkel}|https://maps.appl...|[QUALITY, 3RDPARTY]|          AC|                  []|  clp|PREPAID_PARCEL,CS...|                     1.0|\n",
            "|{ASSEBROEK, BE, B...|    4050| ASSEBROEK (COLRUYT)|{8, COLR_Colruyt}|{51.207433, 3.241...|[CSOP_ORDERABLE, ...|    true|https://www.colru...|    833|   [{2000, 14-03-202...|{1, Winkel, Winkel}|https://maps.appl...|[QUALITY, 3RDPARTY]|          AC|                  []|  clp|CSOP_ORDERABLE,PR...|                     0.0|\n",
            "|{ATH, BE, België,...|    3547|       ATH (COLRUYT)|{8, COLR_Colruyt}|{50.633502, 3.788...|[CSOP_ORDERABLE, ...|    true|https://www.colru...|    621|   [{2000, 14-03-202...|{1, Winkel, Winkel}|https://maps.appl...|[QUALITY, 3RDPARTY]|          AC|                  []|  clp|CSOP_ORDERABLE,PR...|                     0.0|\n",
            "|{AVELGEM, BE, Bel...|    3582|   AVELGEM (COLRUYT)|{8, COLR_Colruyt}|{50.764426, 3.439...|[CSOP_ORDERABLE, ...|    true|https://www.colru...|    640|   [{2000, 14-03-202...|{1, Winkel, Winkel}|https://maps.appl...|[QUALITY, 3RDPARTY]|          AC|                  []|  clp|CSOP_ORDERABLE,PR...|                     0.0|\n",
            "|{AVERBODE, BE, Be...|    4263|  AVERBODE (COLRUYT)|{8, COLR_Colruyt}|{51.026757, 4.982...|[CSOP_ORDERABLE, ...|    true|https://www.colru...|    974|   [{2000, 14-03-202...|{1, Winkel, Winkel}|https://maps.appl...|[QUALITY, 3RDPARTY]|          AC|                  []|  clp|CSOP_ORDERABLE,PR...|                     0.0|\n",
            "+--------------------+--------+--------------------+-----------------+--------------------+--------------------+--------+--------------------+-------+-----------------------+-------------------+--------------------+-------------------+------------+--------------------+-----+--------------------+------------------------+\n",
            "only showing top 20 rows\n",
            "\n",
            "+--------------------------------------------------------+--------+------------------------------+-----------------+-----------------------------+--------------------------------+--------+---------------------------------------------------+-------+---------------------------------------------------------------------------+-------------------+--------------------------------------------------------+-------------------+------------+--------------------------+-----+-----------------------------+------------------------+-----------------------+\n",
            "|address                                                 |branchId|commercialName                |ensign           |geoCoordinates               |handoverServices                |isActive|moreInfoUrl                                        |placeId|placeSearchOpeningHours                                                    |placeType          |routeUrl                                                |sellingPartners    |sourceStatus|temporaryClosures         |brand|handoverServices_str         |handoverServices_indexed|handoverServices_onehot|\n",
            "+--------------------------------------------------------+--------+------------------------------+-----------------+-----------------------------+--------------------------------+--------+---------------------------------------------------+-------+---------------------------------------------------------------------------+-------------------+--------------------------------------------------------+-------------------+------------+--------------------------+-----+-----------------------------+------------------------+-----------------------+\n",
            "|{AALST, BE, België, 41, 9300, BRUSSELSE STEENWEG}       |4156    |AALST (COLRUYT)               |{8, COLR_Colruyt}|{50.933074, 4.0538972}       |[CSOP_ORDERABLE, PREPAID_PARCEL]|true    |https://www.colruyt.be/nl/colruyt-openingsuren/4156|902    |[{2000, 14-03-2024, true, true, 830}, {2100, 15-03-2024, true, false, 830}]|{1, Winkel, Winkel}|https://maps.apple.com/?daddr=50.933074,4.0538972       |[QUALITY, 3RDPARTY]|AC          |[]                        |clp  |CSOP_ORDERABLE,PREPAID_PARCEL|0.0                     |(3,[0],[1.0])          |\n",
            "|{AALTER, BE, België, 66, 9880, LOSTRAAT}                |4218    |AALTER (COLRUYT)              |{8, COLR_Colruyt}|{51.0784761, 3.4500133}      |[CSOP_ORDERABLE, PREPAID_PARCEL]|true    |https://www.colruyt.be/nl/colruyt-openingsuren/4218|946    |[{2000, 14-03-2024, true, true, 830}, {2100, 15-03-2024, true, false, 830}]|{1, Winkel, Winkel}|https://maps.apple.com/?daddr=51.0784761,3.4500133      |[QUALITY, 3RDPARTY]|AC          |[]                        |clp  |CSOP_ORDERABLE,PREPAID_PARCEL|0.0                     |(3,[0],[1.0])          |\n",
            "|{AARSCHOT, BE, België, 241, 3200, LEUVENSESTEENWEG}     |4222    |AARSCHOT (COLRUYT)            |{8, COLR_Colruyt}|{50.9760369, 4.8110969}      |[CSOP_ORDERABLE, PREPAID_PARCEL]|true    |https://www.colruyt.be/nl/colruyt-openingsuren/4222|950    |[{2000, 14-03-2024, true, true, 830}, {2100, 15-03-2024, true, false, 830}]|{1, Winkel, Winkel}|https://maps.apple.com/?daddr=50.9760369,4.8110969      |[QUALITY, 3RDPARTY]|AC          |[]                        |clp  |CSOP_ORDERABLE,PREPAID_PARCEL|0.0                     |(3,[0],[1.0])          |\n",
            "|{ALSEMBERG, BE, België, 19, 1652, BRUSSELSESTEENWEG}    |4138    |ALSEMBERG (COLRUYT)           |{8, COLR_Colruyt}|{50.7415212, 4.336719}       |[CSOP_ORDERABLE, PREPAID_PARCEL]|true    |https://www.colruyt.be/nl/colruyt-openingsuren/4138|886    |[{2000, 14-03-2024, true, true, 830}, {2100, 15-03-2024, true, false, 830}]|{1, Winkel, Winkel}|https://maps.apple.com/?daddr=50.7415212,4.336719       |[QUALITY, 3RDPARTY]|AC          |[]                        |clp  |CSOP_ORDERABLE,PREPAID_PARCEL|0.0                     |(3,[0],[1.0])          |\n",
            "|{AMAY, BE, België, 247, 4540, CHAUSSEE DE TONGRES}      |3853    |AMAY (COLRUYT)                |{8, COLR_Colruyt}|{50.5599284, 5.3061951}      |[CSOP_ORDERABLE, PREPAID_PARCEL]|true    |https://www.colruyt.be/nl/colruyt-openingsuren/3853|783    |[{2000, 14-03-2024, true, true, 830}, {2100, 15-03-2024, true, false, 830}]|{1, Winkel, Winkel}|https://maps.apple.com/?daddr=50.5599284,5.3061951      |[QUALITY, 3RDPARTY]|AC          |[]                        |clp  |CSOP_ORDERABLE,PREPAID_PARCEL|0.0                     |(3,[0],[1.0])          |\n",
            "|{ANDENNE, BE, België, 4, 5300, RUE DE LA PAPETERIE}     |3596    |ANDENNE (COLRUYT)             |{8, COLR_Colruyt}|{50.4917055, 5.0930033}      |[CSOP_ORDERABLE, PREPAID_PARCEL]|true    |https://www.colruyt.be/nl/colruyt-openingsuren/3596|650    |[{2000, 14-03-2024, true, true, 830}, {2100, 15-03-2024, true, false, 830}]|{1, Winkel, Winkel}|https://maps.apple.com/?daddr=50.4917055,5.0930033      |[QUALITY, 3RDPARTY]|AC          |[]                        |clp  |CSOP_ORDERABLE,PREPAID_PARCEL|0.0                     |(3,[0],[1.0])          |\n",
            "|{ANDERLECHT, BE, België, 57, 1070, MAURICE HERBETTELAAN}|3620    |ANDERLECHT (HERBETTELN) COLR  |{8, COLR_Colruyt}|{50.8439965, 4.3099483}      |[CSOP_ORDERABLE, PREPAID_PARCEL]|true    |https://www.colruyt.be/nl/colruyt-openingsuren/3620|669    |[{2000, 14-03-2024, true, true, 830}, {2100, 15-03-2024, true, false, 830}]|{1, Winkel, Winkel}|https://maps.apple.com/?daddr=50.8439965,4.3099483      |[QUALITY, 3RDPARTY]|AC          |[]                        |clp  |CSOP_ORDERABLE,PREPAID_PARCEL|0.0                     |(3,[0],[1.0])          |\n",
            "|{ANDERLECHT, BE, België, 824, 1070, BERGENSESTEENWEG}   |3759    |ANDERLECHT (VEEWEYDE) COLRUYT |{8, COLR_Colruyt}|{50.8275378372, 4.3025743961}|[CSOP_ORDERABLE, PREPAID_PARCEL]|true    |https://www.colruyt.be/nl/colruyt-openingsuren/3759|744    |[{2000, 14-03-2024, true, true, 830}, {2100, 15-03-2024, true, false, 830}]|{1, Winkel, Winkel}|https://maps.apple.com/?daddr=50.8275378372,4.3025743961|[QUALITY, 3RDPARTY]|AC          |[]                        |clp  |CSOP_ORDERABLE,PREPAID_PARCEL|0.0                     |(3,[0],[1.0])          |\n",
            "|{ANDERLUES, BE, België, 4, 6150, RUE DE LA STATION}     |3074    |ANDERLUES (COLRUYT)           |{8, COLR_Colruyt}|{50.401257, 4.2797751}       |[CSOP_ORDERABLE]                |false   |https://www.colruyt.be/nl/colruyt-openingsuren/3074|448    |[{2000, 18-03-2024, true, false, 830}]                                     |{1, Winkel, Winkel}|https://maps.apple.com/?daddr=50.401257,4.2797751       |[QUALITY]          |IN          |[{04-03-2024, 17-03-2024}]|clp  |CSOP_ORDERABLE               |3.0                     |(3,[],[])              |\n",
            "|{ANS, BE, België, 88, 4430, RUE DES FRANCAIS}           |3644    |ANS (COLRUYT)                 |{8, COLR_Colruyt}|{50.6588119, 5.5324966}      |[CSOP_ORDERABLE, PREPAID_PARCEL]|true    |https://www.colruyt.be/nl/colruyt-openingsuren/3644|681    |[{2000, 14-03-2024, true, true, 830}, {2100, 15-03-2024, true, false, 830}]|{1, Winkel, Winkel}|https://maps.apple.com/?daddr=50.6588119,5.5324966      |[QUALITY, 3RDPARTY]|AC          |[]                        |clp  |CSOP_ORDERABLE,PREPAID_PARCEL|0.0                     |(3,[0],[1.0])          |\n",
            "|{ANTOING, BE, België, 14, 7640, AVENUE DE L'EUROPE}     |4128    |ANTOING (COLRUYT)             |{8, COLR_Colruyt}|{50.5656778, 3.4521636}      |[CSOP_ORDERABLE, PREPAID_PARCEL]|true    |https://www.colruyt.be/nl/colruyt-openingsuren/4128|880    |[{2000, 14-03-2024, true, true, 830}, {2100, 15-03-2024, true, false, 830}]|{1, Winkel, Winkel}|https://maps.apple.com/?daddr=50.5656778,3.4521636      |[QUALITY, 3RDPARTY]|AC          |[]                        |clp  |CSOP_ORDERABLE,PREPAID_PARCEL|0.0                     |(3,[0],[1.0])          |\n",
            "|{ANTWERPEN 1, BE, België, 35A, 2018, LANGE ELZENSTRAAT} |3573    |CADI ANTWERPEN LANGELZENSTR   |{8, COLR_Colruyt}|{51.2011247, 4.395306}       |[PREPAID_PARCEL, CSOP_ORDERABLE]|true    |https://www.colruyt.be/nl/colruyt-openingsuren/3573|636    |[{2000, 14-03-2024, true, true, 830}, {2100, 15-03-2024, true, false, 830}]|{1, Winkel, Winkel}|https://maps.apple.com/?daddr=51.2011247,4.395306       |[QUALITY, 3RDPARTY]|AC          |[]                        |clp  |PREPAID_PARCEL,CSOP_ORDERABLE|1.0                     |(3,[1],[1.0])          |\n",
            "|{ANTWERPEN 1, BE, België, 15, 2000, GENTPLAATS}         |7477    |ANTWERPEN GENTPLAATS (COLRUYT)|{8, COLR_Colruyt}|{51.2060004, 4.3872453}      |[CSOP_ORDERABLE, PREPAID_PARCEL]|true    |https://www.colruyt.be/nl/colruyt-openingsuren/7477|2781   |[{2000, 14-03-2024, true, true, 830}, {2100, 15-03-2024, true, false, 830}]|{1, Winkel, Winkel}|https://maps.apple.com/?daddr=51.2060004,4.3872453      |[QUALITY, 3RDPARTY]|AC          |[]                        |clp  |CSOP_ORDERABLE,PREPAID_PARCEL|0.0                     |(3,[0],[1.0])          |\n",
            "|{ANTWERPEN 5, BE, België, 357, 2050, BLANCEFLOERLAAN}   |7190    |LINKEROEVER (COLRUYT)         |{8, COLR_Colruyt}|{51.2198341, 4.363296}       |[CSOP_ORDERABLE, PREPAID_PARCEL]|true    |https://www.colruyt.be/nl/colruyt-openingsuren/7190|2643   |[{2000, 14-03-2024, true, true, 830}, {2100, 15-03-2024, true, false, 830}]|{1, Winkel, Winkel}|https://maps.apple.com/?daddr=51.2198341,4.363296       |[QUALITY, 3RDPARTY]|AC          |[]                        |clp  |CSOP_ORDERABLE,PREPAID_PARCEL|0.0                     |(3,[0],[1.0])          |\n",
            "|{ARLON, BE, België, 15, 6700, RUE DE L'HYDRION}         |3266    |ARLON (COLRUYT)               |{8, COLR_Colruyt}|{49.6832331, 5.799413}       |[CSOP_ORDERABLE, PREPAID_PARCEL]|true    |https://www.colruyt.be/nl/colruyt-openingsuren/3266|538    |[{2000, 14-03-2024, true, true, 830}, {2100, 15-03-2024, true, false, 830}]|{1, Winkel, Winkel}|https://maps.apple.com/?daddr=49.6832331,5.799413       |[QUALITY, 3RDPARTY]|AC          |[]                        |clp  |CSOP_ORDERABLE,PREPAID_PARCEL|0.0                     |(3,[0],[1.0])          |\n",
            "|{ASSE, BE, België, 49A, 1730, NERVIERSSTRAAT}           |3083    |ASSE (COLRUYT)                |{8, COLR_Colruyt}|{50.9165932, 4.189811}       |[PREPAID_PARCEL, CSOP_ORDERABLE]|true    |https://www.colruyt.be/nl/colruyt-openingsuren/3083|454    |[{2000, 14-03-2024, true, true, 830}, {2100, 15-03-2024, true, false, 830}]|{1, Winkel, Winkel}|https://maps.apple.com/?daddr=50.9165932,4.189811       |[QUALITY, 3RDPARTY]|AC          |[]                        |clp  |PREPAID_PARCEL,CSOP_ORDERABLE|1.0                     |(3,[1],[1.0])          |\n",
            "|{ASSEBROEK, BE, België, 124, 8310, NIJVERHEIDSSTRAAT}   |4050    |ASSEBROEK (COLRUYT)           |{8, COLR_Colruyt}|{51.207433, 3.241102}        |[CSOP_ORDERABLE, PREPAID_PARCEL]|true    |https://www.colruyt.be/nl/colruyt-openingsuren/4050|833    |[{2000, 14-03-2024, true, true, 830}, {2100, 15-03-2024, true, false, 830}]|{1, Winkel, Winkel}|https://maps.apple.com/?daddr=51.207433,3.241102        |[QUALITY, 3RDPARTY]|AC          |[]                        |clp  |CSOP_ORDERABLE,PREPAID_PARCEL|0.0                     |(3,[0],[1.0])          |\n",
            "|{ATH, BE, België, 116, 7800, CHAUSSEE DE BRUXELLES}     |3547    |ATH (COLRUYT)                 |{8, COLR_Colruyt}|{50.633502, 3.7882782}       |[CSOP_ORDERABLE, PREPAID_PARCEL]|true    |https://www.colruyt.be/nl/colruyt-openingsuren/3547|621    |[{2000, 14-03-2024, true, true, 830}, {2100, 15-03-2024, true, false, 830}]|{1, Winkel, Winkel}|https://maps.apple.com/?daddr=50.633502,3.7882782       |[QUALITY, 3RDPARTY]|AC          |[]                        |clp  |CSOP_ORDERABLE,PREPAID_PARCEL|0.0                     |(3,[0],[1.0])          |\n",
            "|{AVELGEM, BE, België, 272, 8580, DOORNIKSESTEENWEG}     |3582    |AVELGEM (COLRUYT)             |{8, COLR_Colruyt}|{50.764426, 3.439359}        |[CSOP_ORDERABLE, PREPAID_PARCEL]|true    |https://www.colruyt.be/nl/colruyt-openingsuren/3582|640    |[{2000, 14-03-2024, true, true, 830}, {2100, 15-03-2024, true, false, 830}]|{1, Winkel, Winkel}|https://maps.apple.com/?daddr=50.764426,3.439359        |[QUALITY, 3RDPARTY]|AC          |[]                        |clp  |CSOP_ORDERABLE,PREPAID_PARCEL|0.0                     |(3,[0],[1.0])          |\n",
            "|{AVERBODE, BE, België, 8, 3271, MELKERIJSTRAAT}         |4263    |AVERBODE (COLRUYT)            |{8, COLR_Colruyt}|{51.026757, 4.9826536}       |[CSOP_ORDERABLE, PREPAID_PARCEL]|true    |https://www.colruyt.be/nl/colruyt-openingsuren/4263|974    |[{2000, 14-03-2024, true, true, 830}, {2100, 15-03-2024, true, false, 830}]|{1, Winkel, Winkel}|https://maps.apple.com/?daddr=51.026757,4.9826536       |[QUALITY, 3RDPARTY]|AC          |[]                        |clp  |CSOP_ORDERABLE,PREPAID_PARCEL|0.0                     |(3,[0],[1.0])          |\n",
            "+--------------------------------------------------------+--------+------------------------------+-----------------+-----------------------------+--------------------------------+--------+---------------------------------------------------+-------+---------------------------------------------------------------------------+-------------------+--------------------------------------------------------+-------------------+------------+--------------------------+-----+-----------------------------+------------------------+-----------------------+\n",
            "only showing top 20 rows\n",
            "\n"
          ]
        }
      ],
      "source": [
        "# todo: sort handoverServices list first\n",
        "df_clp = df_clp.withColumn(\"handoverServices_str\", when(size(col(\"handoverServices\")) > 0, concat_ws(\",\", col(\"handoverServices\"))).otherwise(\"-\"))\n",
        "\n",
        "indexerModel = StringIndexer(inputCol=\"handoverServices_str\", outputCol=\"handoverServices_indexed\").fit(df_clp)\n",
        "indexed_df = indexerModel.transform(df_clp)\n",
        "indexed_df.show()\n",
        "\n",
        "encoder = OneHotEncoder(inputCol=\"handoverServices_indexed\", outputCol=\"handoverServices_onehot\")\n",
        "encoded_df = encoder.fit(indexed_df).transform(indexed_df)\n",
        "encoded_df.show(truncate=False)\n"
      ]
    },
    {
      "cell_type": "code",
      "execution_count": 195,
      "metadata": {
        "id": "k06T7TulB1AZ"
      },
      "outputs": [],
      "source": [
        "import abc\n",
        "\n",
        "class CryptoCodec(abc.ABC):\n",
        "    @abc.abstractmethod\n",
        "    def encode(self, msg) -> Optional[bytes]:\n",
        "        \"\"\" encode data using AES \"\"\"\n",
        "\n",
        "    @abc.abstractmethod\n",
        "    def decode(self, encoded_msg) -> Optional[bytes]:\n",
        "        \"\"\" decode data using AES \"\"\"\n",
        "\n",
        "class FernetCodec(CryptoCodec):\n",
        "\n",
        "    def __init__(self, key: Optional[bytes] = None) -> None:\n",
        "        self._key = key or Fernet.generate_key()\n",
        "        self._fernet = Fernet(self._key)\n",
        "\n",
        "    def encode(self, msg) -> Optional[bytes]:\n",
        "        return self._fernet.encrypt(msg.encode()) if msg else None\n",
        "\n",
        "    def decode(self, encoded_msg) -> Optional[bytes]:\n",
        "        return self._fernet.decrypt(encoded_msg).decode() if encoded_msg else None\n",
        "\n",
        "    def save_key(self, filename: str) -> None:\n",
        "        \"\"\" save the private key \"\"\"\n",
        "        open(filename, \"wb\").write(self._key)\n",
        "\n",
        "    @staticmethod\n",
        "    def load_key(filename: str) -> bytes:\n",
        "        \"\"\" load the  key \"\"\"\n",
        "        return open(filename, \"rb\").read()\n",
        "\n",
        "    @property\n",
        "    def key(self) -> str:\n",
        "        \"\"\" get obfuscated key \"\"\"\n",
        "        return self._key.decode('ascii')[:-8] + \"*\" * 8\n",
        "\n",
        "    @classmethod\n",
        "    def from_key(cls, filename: str) -> \"FernetCodec\":\n",
        "        return cls(key=cls.load_key(filename))"
      ]
    },
    {
      "cell_type": "code",
      "source": [
        "class AddressCodec:\n",
        "\n",
        "    def __init__(self, codec: CryptoCodec) -> None:\n",
        "        self.codec = codec\n",
        "\n",
        "    def encode_address_asdict(self, addr: Dict) -> Dict:\n",
        "        return {\n",
        "            \"houseNumber\": self.codec.encode(addr.get(\"houseNumber\")),\n",
        "            \"streetName\" : self.codec.encode(addr.get(\"streetName\")),\n",
        "            \"postalcode\": addr.get(\"postalcode\") ,\n",
        "            \"cityName\": addr.get(\"cityName\"),\n",
        "            \"countryCode\": addr.get(\"countryCode\"),\n",
        "            \"countryName\": addr.get(\"countryName\")\n",
        "        }\n",
        "\n",
        "    def decode_address_asdict(self, addr: Dict) -> Dict:\n",
        "        return {\n",
        "            \"houseNumber\": self.codec.decode(addr.get(\"houseNumber\")),\n",
        "            \"streetName\" : self.codec.decode(addr.get(\"streetName\")),\n",
        "            \"postalcode\": addr.get(\"postalcode\") ,\n",
        "            \"cityName\": addr.get(\"cityName\"),\n",
        "            \"countryCode\": addr.get(\"countryCode\"),\n",
        "            \"countryName\": addr.get(\"countryName\")\n",
        "        }\n",
        "\n",
        "    def encode_address_aslist(self, addr: List) -> List:\n",
        "        # the codec works in binary mode, but the fields are strings, hence\n",
        "        # the extra UTF-8 decode\n",
        "        return [\n",
        "           addr[0], addr[1], addr[2], self.codec.encode(addr[3]).decode(\"utf-8\"),\n",
        "           addr[4], self.codec.encode(addr[5]).decode(\"utf-8\")\n",
        "        ]\n",
        "\n",
        "    def decode_address_aslist(self, addr: List) -> List:\n",
        "        return [\n",
        "           addr[0], addr[1], addr[2], self.codec.decode(bytes(addr[3], \"utf-8\")),\n",
        "           addr[4], self.codec.decode(bytes(addr[5], \"utf-8\"))\n",
        "        ]"
      ],
      "metadata": {
        "id": "tFxahOaULKl7"
      },
      "execution_count": 180,
      "outputs": []
    },
    {
      "cell_type": "code",
      "source": [
        "def get_aes_key_from_vault() -> bytes:\n",
        "  return userdata.get(aes_filename).encode(\"utf-8\")"
      ],
      "metadata": {
        "id": "PcExArpCo--c"
      },
      "execution_count": 220,
      "outputs": []
    },
    {
      "cell_type": "code",
      "source": [
        "# Ideally, fetch from a secure vault (KeyChain, 1Password, ..) using the `keyring` package;\n",
        "# or Google Colab secrets\n",
        "# Set to None to have one generated for you by the codec\n",
        "\n",
        "aes_filename = \"aes_key\"\n",
        "\n",
        "# get a new key with to store in Colab : FernetCodec()._key.decode(\"utf-8\")\n",
        "aes_key = get_aes_key_from_vault()"
      ],
      "metadata": {
        "id": "d2cBN9zJKUdc"
      },
      "execution_count": 221,
      "outputs": []
    },
    {
      "cell_type": "markdown",
      "source": [
        "# **Anonymise data with a symm. crypto key**"
      ],
      "metadata": {
        "id": "0KamGGxwItY1"
      }
    },
    {
      "cell_type": "code",
      "source": [
        "codec = FernetCodec(aes_key)\n",
        "\n",
        "# only this AES (symmetrical) key allows you to decrypt addresses again: do not lose uit\n",
        "LOGGER.info(\"AES key: %s\", codec.key)\n",
        "\n",
        "# for this exercise, also persist key to file system\n",
        "codec.save_key(aes_filename)"
      ],
      "metadata": {
        "colab": {
          "base_uri": "https://localhost:8080/"
        },
        "id": "VirB1NywF5ue",
        "outputId": "8297903e-d283-4fb5-9ba6-719d5f48ee5f"
      },
      "execution_count": 222,
      "outputs": [
        {
          "output_type": "stream",
          "name": "stderr",
          "text": [
            "INFO:pyspark_exercise:AES key: RSxNI838DKITN7PpCdl8xXqyou32nI58BUTJ********\n",
            "AES key: RSxNI838DKITN7PpCdl8xXqyou32nI58BUTJ********\n"
          ]
        },
        {
          "output_type": "stream",
          "name": "stdout",
          "text": [
            "AES key: RSxNI838DKITN7PpCdl8xXqyou32nI58BUTJ********\n",
            "AES key: RSxNI838DKITN7PpCdl8xXqyou32nI58BUTJ********\n"
          ]
        }
      ]
    },
    {
      "cell_type": "code",
      "execution_count": 212,
      "metadata": {
        "id": "Dsug8_hkB1Aa",
        "colab": {
          "base_uri": "https://localhost:8080/"
        },
        "outputId": "fb4fdddb-15e5-4848-896c-af4ea841ee17"
      },
      "outputs": [
        {
          "output_type": "stream",
          "name": "stdout",
          "text": [
            "+---------------------------------------------------------------------------------------------------------------------------------------------------------------------------------------------------------------------------------------------------------------+\n",
            "|gdpr_address                                                                                                                                                                                                                                                   |\n",
            "+---------------------------------------------------------------------------------------------------------------------------------------------------------------------------------------------------------------------------------------------------------------+\n",
            "|{AALST, BE, België, gAAAAABl8tiVEOe_P4rfw3AicTvCE9p1VXUn7FQghZxFChV3RqLADmDS85t5_oxEviqeyNDK55KFDtA49xVvqodI5oFUNeK_zA==, 9300, gAAAAABl8tiVkUuyRGiz-Of4e672y0S2zlsveLmLqaHG9jOfeuyzmGvc0WQUcBE6LJ-b7eayaF6ydq_eLbeFqTwnu8pt2QB4WUqGTjGxiVDmW3MDEPDBFDA=}      |\n",
            "|{AALTER, BE, België, gAAAAABl8tiVTuXdyUE4j5rocgTRsqSuTTOYanxp_7tOz2EPj-mKjq9r7epjmJZTDx6fBJ-45Vt5HyvFhCsfQA-tZDQIg-1TNw==, 9880, gAAAAABl8tiV9ynTMxBnm7Fzdvh5b9e4jQb6UjPMgHUSvPudboHOo9ln84KvQrS6U8Mz17-czEkvgMTSz5J9_B7sGKVsVFHhNA==}                         |\n",
            "|{AARSCHOT, BE, België, gAAAAABl8tiVyFmlF65D-dzj2SeVH62P3d4OH8qwQCPDrVy95sp8hCwk-8CW2p_OOti7_Egpem9CszUmJRCXXFCD1nvT1Q0NoA==, 3200, gAAAAABl8tiVd_sg2Dv82kj0B00RFMz-ePR1AteQT3nItZaNWQnW5LKiiEH5PN0_ZIsa03YSWESa9Gd6D0JCsCGDzSeIW_1g0O8xmJr_RGuq-EBVso7aJgs=}   |\n",
            "|{ALSEMBERG, BE, België, gAAAAABl8tiVdYITvzuP7etrILRkooynbmFH344H5jrP04C4S5YQqZSFzUVeJKQk4plt47po0TxDmDbEXRywY9gQGZeAovZwfA==, 1652, gAAAAABl8tiV_VWua3erAqxI3bikBcyjcdvgsYmnRi5CscXuJQ5F-VKR0Srqm8kJH1vUoS2T0A9gEQ2fWrhRiziB9WLOK5OQtAzXy_90Ox0_DtCyexNa3y0=}  |\n",
            "|{AMAY, BE, België, gAAAAABl8tiVEwbZKIRLvQVQw3uyTPTFEttRFEYYwe2cjVn1wStiLFRLI-2nHMV_2CAt9Ls_9EQjk_GN-4O67Td1F3ptEsffWQ==, 4540, gAAAAABl8tiV6slaoGBwVVtX7wPbPFA0_NY9s1e6KBwpCgULvKctuLH2mw9jtFP-GKl-jZWIX5ZRg_Pw0qvpqPoZzRG-zEME5ZXLzx4Xydd4SwJPZ_YKwSU=}       |\n",
            "|{ANDENNE, BE, België, gAAAAABl8tiVHdedD3etkU5V3V9AmS-qlnuumUN1aY3TgHrQcb8-IV9LWYBEuNIb_BGoTqOJYV3ugoUkXI_n50hpE5L-oN-jjQ==, 5300, gAAAAABl8tiVJirwE_RBNSShA2vq9SlkB5eXqL2MTqw6_sd-CYCj7iImw0TOOSbQ-icWAnsc6W_ipaP4YhS0Z0ZD64tNLsnIMOGldGqID3hVZajUL-gVu6A=}    |\n",
            "|{ANDERLECHT, BE, België, gAAAAABl8tiVKGJa6i-0khLnXr7PPV2rPmw8D1_x_7S_5AbT3vEQ1CzcdkrKYmjCuszmoVCaR12D52_KN6thtdXW6vHw2Hl6FA==, 1070, gAAAAABl8tiV58N0B5etX9iZbHXDNHAFdvIP1Wi_6s4qKIDn2CsAvls-mRMXtH3uCB8qhLZUJDD8n6MrGiuYX0VTyn4l3qhsLtI_WStS7_AZ0UaftP2ksh8=} |\n",
            "|{ANDERLECHT, BE, België, gAAAAABl8tiVTxKDAimbxQPsMM0_Wn0T5pjhu4QGHXXB0AJtSSbw-GgvFlaZIi2IcT8-cLE6bWDa7s2bHgPGMYfhiYo9KQVsLw==, 1070, gAAAAABl8tiVlIKWp67yvs7eGpRzclLIzfQGe6TajD79VNwv_U5JcQtikaBZJP0zoiZ65TExok3O7EAI2gDX8XXuBO-XJxht18g5gRSv1GGeOKusjvqKkUU=} |\n",
            "|{ANDERLUES, BE, België, gAAAAABl8tiVZW1efFjoEv_lRJwS_eV4qVzNo4Mb3NzpZM3uGb5WY-GDq-ENRpLbcbEcciB0msMFvjfVO7-t0TVwpt3HDxh4Sw==, 6150, gAAAAABl8tiVaYRjeZVg288QBOVd_rnAkuCS-jkbYV3aQdgUmCcAOOsLlA0R-c_XJS-x24iDpZATnSJTF5iS7nLSBZpCab6fN6VPlj2_v9prmmxf5xO12qo=}  |\n",
            "|{ANS, BE, België, gAAAAABl8tiV0tLmdhS9xDLU8VL-KGBgERTCoMOQppTMuqVifdsY-L-_JbZhjvHaTvd7decFlV6cKixvds6b-e91iwjTPrM9_A==, 4430, gAAAAABl8tiV1rPpwWB5uCbI6l1eewnauzzOXgRDIcocAKegLcGYTeZLKy0X0IzV6ZBO7H7JGGPHrsv_SCURl0Y2NYLM28ldSk96-1Ax64-FG7WNOKR2dkE=}        |\n",
            "|{ANTOING, BE, België, gAAAAABl8tiVjWMdOopRBJ1wfs17Vj3B8-hm2qhfuO6VEmZqhUeqwOcdZQwbj9sU0UvIAk6xNTBJNBMyfECrXxCuHtDFQDUmiA==, 7640, gAAAAABl8tiVsBKvDvMgPrs9ZOavsbgz4voJFQHvIAFZOGHLivi3Zcn5aMzfz71jnUcdH9eK2owAQs1MOS_fIApbuTtmA-nUnc7wrPdeiA3_agtK-MYf-cQ=}    |\n",
            "|{ANTWERPEN 1, BE, België, gAAAAABl8tiVmOZsZUIlw1Kb4VZUP5VCd28ZMf_fvgXBzMTGKtCwbpuBjW-hdzipfq9sTTxq-mRzCM2L1mgU-nANmEtmI5lAtA==, 2018, gAAAAABl8tiVGs0oh4TLO5C60dsJ4DmhZ-SteujPryVrx5tQZ4poewHn7mE08Gw28nYrFl3fGt75V_wClseM-YR0NQUdVFkvREWN3iHCq9mJBmAkOawha0c=}|\n",
            "|{ANTWERPEN 1, BE, België, gAAAAABl8tiVLkHgYZ73v6TmrR-1-EkrG2vIPG-h-MhWcZCuzZFYpfzaJ7hqYVfZt_pjHpax_pFl2IUX_NzJOnucyUAJcNWFaA==, 2000, gAAAAABl8tiV5ttdzM9uOBzuYQvnAKj0UNrzwWACpDPlNuhV-G76BlxyTxII6S7A-zSmY6k2YrEk_SFrIuRU_IrGYhi3lTEUlw==}                    |\n",
            "|{ANTWERPEN 5, BE, België, gAAAAABl8tiVa2UQEQr-kAla2UprwIDNoJDSKqJztNiYwozDLeh7wKC8eFTga2EsjMg8Nsb-ituBkuj2ErwWyFIoGmUzUvGvFw==, 2050, gAAAAABl8tiVixP_fLd7KWycULIL6AhYE57-mdNW9KFvvug6UslJdAxyqSzU5ZXot-MbyOZC1-E6flfc9VEGf5G9v4rFX7t81g==}                    |\n",
            "|{ARLON, BE, België, gAAAAABl8tiVbveQBAMpEbgmDAALNxQ736-BXDmyqV2ylFw2ZVvoSaaunHazuvtVV6azxpdJiRLUYBWN8nuuM2RuooTHeUB56g==, 6700, gAAAAABl8tiVy8pu9ElAifdtYfPRrtQZsVBLuk00-FO-B5RNCwtZwdX3lbHeRMwyxgflIUezMzEbnv2aIxVVsvvCUysmUXGceQdUqvO-ef93h8SNLUdrSO4=}      |\n",
            "|{ASSE, BE, België, gAAAAABl8tiV-G7VKRYKp7v-9A9tRrbEOtqeG15zGzrFCqAJFzD7aniKMlCWGse7SCfcCYr531I4n8vcYVZBvivBJguu8ALgog==, 1730, gAAAAABl8tiVachwFlU2tZOPh_nwPox2nbUF1cIzOz_MNOF5rwXxW0j7rcLYVLiW-5uvcO97l7UpHGaQaJh7BrGBNtNJoOP9pg==}                           |\n",
            "|{ASSEBROEK, BE, België, gAAAAABl8tiVh0ZuYP8ot7lHlgpS8tOXrCtCTixB4gG1OnoE3NOZ4AVfNw4igvRVeFI9WLG_ZSoIGFLDWnto8ZbUFLckV3CqPg==, 8310, gAAAAABl8tiVrFYFEeIoLQSZUFyYkx5BhVLFRjT2PDyg-QLOjO2HxNd606LZ7Xk5NvY0dTlD-ZJbmsJtXl7jJsBAmDU6H7MWGRNfQpo1usay4UCRoVV4HF4=}  |\n",
            "|{ATH, BE, België, gAAAAABl8tiVPxvQgdlmz3IE330MFAibinuQ0wo_JyjGCLmrfVq_qf7QI-cZ1LSMggC493Qs6qR7aLQqQKJG_jArJnhTD-xlLw==, 7800, gAAAAABl8tiVmWJU55SmWlvtoh9jQcMRX5AvqvzM9Ztt6nmpwPGv3cze8FF8cR4QCWhKB4__3aMzfYEz2HaELyZYmd8Ybzq2MWMP86Jtid_4cPzEAoP8vfA=}        |\n",
            "|{AVELGEM, BE, België, gAAAAABl8tiVQkyygXGin9eG6TqkaFbF-GV3E_KmWCqwP9tCd4I27GRzLrJs4HxgDETB-X9phjhhJ15-imAeQF1-WVUbspMsZQ==, 8580, gAAAAABl8tiVDg3e-j2Om8v5qjsIb3E0JKkRfw-4M2plkkQqyB_A5W1Gs4CEo1E8g9K0ykimV6n4i-iqXy2JgMBSeTfqs5xqRbmi4a4mjRYJ8fUCtC_DYgA=}    |\n",
            "|{AVERBODE, BE, België, gAAAAABl8tiVRnd_nZo0566Dhwh8CGHnqdH4f2FAUAkG1ELgjGcl70eJkdE-_vtBQX_K97qaNk1145L2nwKVlN3cwSP8yLReNQ==, 3271, gAAAAABl8tiVls6DAjkRjMlf0ZE-whsMnOzNj4WXYd4V9d1b2xdSbKkmec53XzoVNCPs4LUqJtgXqf6Kn_0wN55FfYH3C93syA==}                       |\n",
            "+---------------------------------------------------------------------------------------------------------------------------------------------------------------------------------------------------------------------------------------------------------------+\n",
            "only showing top 20 rows\n",
            "\n"
          ]
        }
      ],
      "source": [
        "# the address codec will obfuscate certain fields only\n",
        "addr_codec = AddressCodec(codec)\n",
        "encryptUDF = udf(lambda addr: addr_codec.encode_address_aslist(addr), BrandInfo.AddressType)\n",
        "\n",
        "df_gdpr = df_clp.withColumn(\"gdpr_address\", encryptUDF(col(\"address\"))).drop(\"address\")\n",
        "df_gdpr[[\"gdpr_address\"]].show(truncate=False)"
      ]
    },
    {
      "cell_type": "markdown",
      "source": [
        "# **Write to Parquet**"
      ],
      "metadata": {
        "id": "qbxRJtIpHh-w"
      }
    },
    {
      "cell_type": "code",
      "execution_count": 213,
      "metadata": {
        "id": "gQVBBA77B1Aa",
        "colab": {
          "base_uri": "https://localhost:8080/"
        },
        "outputId": "d39fbacf-cb57-4932-f816-867b29565768"
      },
      "outputs": [
        {
          "output_type": "stream",
          "name": "stderr",
          "text": [
            "INFO:pyspark_exercise:writing clp brands parquet file: brand_data.parquet\n",
            "writing clp brands parquet file: brand_data.parquet\n"
          ]
        },
        {
          "output_type": "stream",
          "name": "stdout",
          "text": [
            "writing clp brands parquet file: brand_data.parquet\n",
            "writing clp brands parquet file: brand_data.parquet\n"
          ]
        }
      ],
      "source": [
        "parquet_filename = \"brand_data.parquet\"\n",
        "\n",
        "LOGGER.info(\"writing clp brands parquet file: %s\", parquet_filename)\n",
        "\n",
        "# partition the data by the branch ID\n",
        "\n",
        "df_gdpr.write.partitionBy(\"branchid\").parquet(parquet_filename, mode=\"overwrite\")"
      ]
    },
    {
      "cell_type": "markdown",
      "source": [
        "\n",
        "---\n",
        "\n",
        "\n",
        "At this point, the GDPR-sensitive FMCG-data is persisted and the key is secured\n",
        "\n",
        "---"
      ],
      "metadata": {
        "id": "kWT4-oQbFsiB"
      }
    },
    {
      "cell_type": "markdown",
      "source": [
        "# **Read from Parquet**"
      ],
      "metadata": {
        "id": "AmvkG4X3H6w0"
      }
    },
    {
      "cell_type": "code",
      "execution_count": 214,
      "metadata": {
        "id": "853QOmkZB1Aa",
        "colab": {
          "base_uri": "https://localhost:8080/"
        },
        "outputId": "02a5660c-30fc-498c-dd5b-28a1925ddb5e"
      },
      "outputs": [
        {
          "output_type": "stream",
          "name": "stderr",
          "text": [
            "INFO:pyspark_exercise:reading brands parquet file brand_data.parquet\n",
            "reading brands parquet file brand_data.parquet\n"
          ]
        },
        {
          "output_type": "stream",
          "name": "stdout",
          "text": [
            "reading brands parquet file brand_data.parquet\n",
            "reading brands parquet file brand_data.parquet\n",
            "+------------------------------+-----------------+-----------------------------+--------------------------------+--------+---------------------------------------------------+-------+---------------------------------------------------------------------------+-------------------+-------------------------------------------------------------+-------------------+------------+--------------------------+-----+----------------------------------------------------------------------------------------------------------------------------------------------------------------------------------------------------------------------------------------------------------------------------------+--------+\n",
            "|commercialName                |ensign           |geoCoordinates               |handoverServices                |isActive|moreInfoUrl                                        |placeId|placeSearchOpeningHours                                                    |placeType          |routeUrl                                                     |sellingPartners    |sourceStatus|temporaryClosures         |brand|gdpr_address                                                                                                                                                                                                                                                                      |branchid|\n",
            "+------------------------------+-----------------+-----------------------------+--------------------------------+--------+---------------------------------------------------+-------+---------------------------------------------------------------------------+-------------------+-------------------------------------------------------------+-------------------+------------+--------------------------+-----+----------------------------------------------------------------------------------------------------------------------------------------------------------------------------------------------------------------------------------------------------------------------------------+--------+\n",
            "|POMMERLOCH (COLRUYT)          |{8, COLR_Colruyt}|{49.963675437, 5.858935033}  |[CSOP_ORDERABLE]                |true    |https://www.colruyt.be/nl/colruyt-openingsuren/8025|3255   |[{1900, 14-03-2024, true, true, 830}, {1900, 15-03-2024, true, false, 830}]|{1, Winkel, Winkel}|https://maps.apple.com/?daddr=49.963675437000,5.8589350330000|[QUALITY]          |AC          |[]                        |clp  |{POMMERLOCH, LU, Luxemburg (Groothertogdom), gAAAAABl8tiZRwAPiLJ77ZBjcRFVCVA-WmlvkSnBFrmRE8skT2BmZU8e_lsfB-qzqsQ7BPlEq3lyk74WAQeGXEzu0SG1HORfkQ==, 9638, gAAAAABl8tiZJnLCG5loUWjbtimnxWGQe-heweXwazE8_c0FOzAjlUiV-W1yYKCxysIG3PwnqMMZr3KkeHYheW79KXulUwYQfZUOsBLdnL9XKI9eaRxersQ=}|8025    |\n",
            "|MARCHIENNE-AU-PONT (COLRUYT)  |{8, COLR_Colruyt}|{50.4090782096, 4.3930077553}|[CSOP_ORDERABLE, PREPAID_PARCEL]|true    |https://www.colruyt.be/nl/colruyt-openingsuren/3201|512    |[{2000, 14-03-2024, true, true, 830}, {2100, 15-03-2024, true, false, 830}]|{1, Winkel, Winkel}|https://maps.apple.com/?daddr=50.4090782096,4.3930077553     |[QUALITY, 3RDPARTY]|AC          |[]                        |clp  |{MARCHIENNE-AU-PONT, BE, België, gAAAAABl8tiZJ_pfzQkljnrzl3NoYfPFbAlN3eV9x8xqdWCdC1J5z8t9IRzpFRQF723qSD5votESYH1mecVFmop1LNqW2IMf_g==, 6030, gAAAAABl8tiZ0clwDYY0t5LVWbSTFJ_-7srPeBzQAB_NYNdVl0-xLaDHZRGNnRAFoy4iW_gpF4VvtDkPUBOE10Oa-pGavIfNYcodYymZMwQJlkcxmfn_0EQ=}            |3201    |\n",
            "|SINT-DENIJS-WESTREM (COLRUYT) |{8, COLR_Colruyt}|{51.0154063, 3.6550922}      |[CSOP_ORDERABLE, PREPAID_PARCEL]|true    |https://www.colruyt.be/nl/colruyt-openingsuren/4591|1825   |[{2000, 14-03-2024, true, true, 830}, {2100, 15-03-2024, true, false, 830}]|{1, Winkel, Winkel}|https://maps.apple.com/?daddr=51.0154063,3.6550922           |[QUALITY, 3RDPARTY]|AC          |[]                        |clp  |{SINT-DENIJS-WESTREM, BE, België, gAAAAABl8tiZGTmbVP-U-Sqjn1nSYMGPuJsxs0p0UayJGradISOKLFQUV781VJhECrAYiEbiC5LMHqos1yIjjx9e7DtWL0s1aA==, 9051, gAAAAABl8tiZqW1zojHBEZH6mvIot3zBqvCKapZJ2jDWp2enikixo7URiAWSNw7HW2btEdNs4zq8K5aSEdJhe7QHXJiXNP8YZ4di72PAycpWs5fNHefPMFs=}           |4591    |\n",
            "|NIEUWPOORT (COLRUYT)          |{8, COLR_Colruyt}|{51.137091, 2.739978}        |[CSOP_ORDERABLE]                |false   |https://www.colruyt.be/nl/colruyt-openingsuren/4232|958    |[{2000, 18-03-2024, true, false, 830}]                                     |{1, Winkel, Winkel}|https://maps.apple.com/?daddr=51.137091,2.739978             |[QUALITY]          |IN          |[{22-01-2024, 17-03-2024}]|clp  |{NIEUWPOORT, BE, België, gAAAAABl8tiZb2SKyTk5LZQzaFDfrd9V6BrzzxLeEqmSYg325DKn-F_iHCKRhGcUBY858b0QdHWhKIINagaAzE_dRG88pe7T0w==, 8620, gAAAAABl8tiZ35nAQ6wdmMmkswRo9ctMW-b_JpHZrpfg1XKq413t2eW2-fq1K5nbVUvzS5RQovlIG7kRw83hVFj7AGGVlzzMp02ZUHNi9cuBaHCBX8gMG3M=}                    |4232    |\n",
            "|STRASSEN (COLRUYT)            |{8, COLR_Colruyt}|{49.61707692, 6.094168979}   |[CSOP_ORDERABLE]                |true    |https://www.colruyt.be/nl/colruyt-openingsuren/8548|3610   |[{2000, 14-03-2024, true, true, 830}, {2000, 15-03-2024, true, false, 830}]|{1, Winkel, Winkel}|https://maps.apple.com/?daddr=49.617076920000,6.0941689790000|[QUALITY]          |AC          |[]                        |clp  |{STRASSEN, LU, Luxemburg (Groothertogdom), gAAAAABl8tiZg1s8brfkd6DwC439ooRglVJ13gjIpeBSouoq-EnKd-L6bi-bXVjAsJh5gtttIqMle2H_F4R2kjrIV2QUnNLb2A==, 8008, gAAAAABl8tiZlT1bve-M0gKWcQe4McIZ1VZRNZk-M4PjF6mrN7oZCPU2tnxb3ahBNo87ox89oWpDR05EyByguYQdqCqpuAYcTA==}                      |8548    |\n",
            "|ANDERLUES (COLRUYT)           |{8, COLR_Colruyt}|{50.401257, 4.2797751}       |[CSOP_ORDERABLE]                |false   |https://www.colruyt.be/nl/colruyt-openingsuren/3074|448    |[{2000, 18-03-2024, true, false, 830}]                                     |{1, Winkel, Winkel}|https://maps.apple.com/?daddr=50.401257,4.2797751            |[QUALITY]          |IN          |[{04-03-2024, 17-03-2024}]|clp  |{ANDERLUES, BE, België, gAAAAABl8tiZPzy8HbD48c-eOzxcj3sxxvQZjkakVbblk-nW5sip9J5e8w0WiCq4CX0dMtXU3ZmkFKlHumaLaTltWVizFkxUTw==, 6150, gAAAAABl8tiZzrDv3JWPkjqTZKkbNXioH4G0eS0D4b_dzXnNXkyc4oOdZJQcKx_5gEtY3kl4sElbBjiPCOU9hTTa-ftsnbuivZUKKJas-iSPzsmNkYVWufo=}                     |3074    |\n",
            "|SINT-PIETERS-WOLUWE (COLRUYT) |{8, COLR_Colruyt}|{50.8368454, 4.4319045}      |[CSOP_ORDERABLE, PREPAID_PARCEL]|true    |https://www.colruyt.be/nl/colruyt-openingsuren/3108|474    |[{2000, 14-03-2024, true, true, 830}, {2100, 15-03-2024, true, false, 830}]|{1, Winkel, Winkel}|https://maps.apple.com/?daddr=50.8368454,4.4319045           |[QUALITY, 3RDPARTY]|AC          |[]                        |clp  |{ST-PIETERS-WOLUWE, BE, België, gAAAAABl8tiZHGAphFkIi23-twc8gSPoNBWrUZBmrf_eFhmxKkMwOwGBbqV28yjYZ2Mc69y1sV3E2lX8w5BU3qpyLR199oV6lw==, 1150, gAAAAABl8tiZt1Hcc-mZuO1wc62bfdYL86DuH2qocOGYt7u_v3bUhvN9RG94uw25Cs-VWJ41GvOAAc0fmlKfUPFGghAyYvvja3Gfxe-Nvdz8RggKf055yYw=}             |3108    |\n",
            "|ANDERLECHT (VEEWEYDE) COLRUYT |{8, COLR_Colruyt}|{50.8275378372, 4.3025743961}|[CSOP_ORDERABLE, PREPAID_PARCEL]|true    |https://www.colruyt.be/nl/colruyt-openingsuren/3759|744    |[{2000, 14-03-2024, true, true, 830}, {2100, 15-03-2024, true, false, 830}]|{1, Winkel, Winkel}|https://maps.apple.com/?daddr=50.8275378372,4.3025743961     |[QUALITY, 3RDPARTY]|AC          |[]                        |clp  |{ANDERLECHT, BE, België, gAAAAABl8tiZF0e81C-D_BgdnVNnwbDhAXzLjeiLBttXW5yg97T9ZdYs4vR4yxDS8vEEmdFGiGvQ_0tF-pAZZJuHFkEqkB1y_Q==, 1070, gAAAAABl8tiZKKwfqKCdUiY8Ez-cnwzzjUgJ7vcwGFoVfEK_7X5mudCkdwDq36uEnKAxhbya4H-eL9hVG1igLr9RFOHbcNBBswWU98FcwwYyoXWCCwMEJpA=}                    |3759    |\n",
            "|Deurne Ruggeveldlaan (COLRUYT)|{8, COLR_Colruyt}|{51.222910191, 4.479029433}  |[CSOP_ORDERABLE, PREPAID_PARCEL]|true    |https://www.colruyt.be/nl/colruyt-openingsuren/8555|3813   |[{2000, 14-03-2024, true, true, 830}, {2100, 15-03-2024, true, false, 830}]|{1, Winkel, Winkel}|https://maps.apple.com/?daddr=51.222910191000,4.4790294330000|[QUALITY, 3RDPARTY]|AC          |[]                        |clp  |{DEURNE (ANTWERPEN), BE, België, gAAAAABl8tiZvBOl7GhFw3W14807YQJ_-TN5i61Z-A30lcy4C4jZSuqa5CMM4AXBJzarEJocwN0VUvwlByVP1j53RPQ1aJDMzA==, 2100, gAAAAABl8tiZpPxN2AGmS4kgwoK-i4jQXOtzefQw-3vtkMiAiZb7AfPVowWL-JcbLUbV-_5BpDgG8QfYWKgbuexoAR0xEA5UPw==}                                |8555    |\n",
            "|SINT-PIETERS-LEEUW (COLRUYT)  |{8, COLR_Colruyt}|{50.79696, 4.2860431}        |[CSOP_ORDERABLE, PREPAID_PARCEL]|true    |https://www.colruyt.be/nl/colruyt-openingsuren/3711|726    |[{2000, 14-03-2024, true, true, 830}, {2100, 15-03-2024, true, false, 830}]|{1, Winkel, Winkel}|https://maps.apple.com/?daddr=50.79696,4.2860431             |[QUALITY, 3RDPARTY]|AC          |[]                        |clp  |{SINT-PIETERS-LEEUW, BE, België, gAAAAABl8tiZcSMLkwiPZ8qhTasrINcyTLkUXkutb2aQw-mA42V6jQTgVEyCSHxMIMsFF-WsjahhaXdwPQVlTkxARq-IoFd3-w==, 1600, gAAAAABl8tiZs4l1GPY38J3P0aQEAFe6Qqr0RrLtW1zj0_dK-e4aHQOJRfFLN7NEkDK38biXm_564ltVk9VRzsFnJcl7XfUPq22wUGlHJW2A-FYBrh9s1tY=}            |3711    |\n",
            "|MARCHE EN FAMENNE (COLRUYT)   |{8, COLR_Colruyt}|{50.2316203, 5.3433693}      |[CSOP_ORDERABLE, PREPAID_PARCEL]|true    |https://www.colruyt.be/nl/colruyt-openingsuren/3136|494    |[{2000, 14-03-2024, true, true, 830}, {2100, 15-03-2024, true, false, 830}]|{1, Winkel, Winkel}|https://maps.apple.com/?daddr=50.2316203,5.3433693           |[QUALITY, 3RDPARTY]|AC          |[]                        |clp  |{MARCHE-EN-FAMENNE, BE, België, gAAAAABl8tiZKUkTlpW0DrrIirHPqw1wi-bvX5i6UdAcGJthlkYrPAXFpqotwh_6ylyVIqo2GyBNJ0vgUZtFI9jKakvJMTVBCw==, 6900, gAAAAABl8tiZkT6IR7cOURN4AIKkUIqjq14ghVUk0TRewDoEpI_5Dx8Mnu5l-p5EJhDi14l9uhRmXwSChzD9-IWy4IEFwPyvb_2W_9_wJEi3YLxktLBVPXI=}             |3136    |\n",
            "|HEIST-OP-DEN-BERG (COLRUYT)   |{8, COLR_Colruyt}|{51.0710339, 4.700673}       |[CSOP_ORDERABLE, PREPAID_PARCEL]|true    |https://www.colruyt.be/nl/colruyt-openingsuren/3094|464    |[{2000, 14-03-2024, true, true, 830}, {2100, 15-03-2024, true, false, 830}]|{1, Winkel, Winkel}|https://maps.apple.com/?daddr=51.0710339,4.700673            |[QUALITY, 3RDPARTY]|AC          |[]                        |clp  |{HEIST-OP-DEN-BERG, BE, België, gAAAAABl8tiZ8U6Pos-Q51o4apMGYSP-z703bHoyfre--Cop744Rtx5AYMnxyrvkffxoIXlOesOdNium5iW1PjZsEaCA3a4maw==, 2220, gAAAAABl8tiZdIbVE7-yRxZBTqlTnzo55wgcY2dd86FUU5tx1EdrFPAXnyThutRAU8OrTRXDQ8njyqJi4W9mdQuM8ghSpw4GEw1rgHLZ1y4DM2_A-39e23k=}             |3094    |\n",
            "|Haine St Pierre (Colruyt)     |{8, COLR_Colruyt}|{50.4639283254, 4.2077160714}|[CSOP_ORDERABLE, PREPAID_PARCEL]|true    |https://www.colruyt.be/nl/colruyt-openingsuren/7142|2623   |[{2000, 14-03-2024, true, true, 830}, {2100, 15-03-2024, true, false, 830}]|{1, Winkel, Winkel}|https://maps.apple.com/?daddr=50.4639283254,4.2077160714     |[QUALITY, 3RDPARTY]|AC          |[]                        |clp  |{LA LOUVIERE, BE, België, gAAAAABl8tiZB8cYqoxlw5K7mNEBI_aDLPGNxxjtHtBuci9195sayPnfKOFxfn2C6Z5_PG2jx2p1ko7khr9AmpeAQ6SdYXGplg==, 7100, gAAAAABl8tiZUdeon_MlA3EVpbzocRliWqoLispjbcdhALoyD86hqPF8puPJYXL0zmlle5Gj9PSsjwXWw1Ia4vRWW3nMKqB8o_ZTKDdsmwfXpxTZYEJYW9Q=}                   |7142    |\n",
            "|CHENEE (COLRUYT)              |{8, COLR_Colruyt}|{50.6074402, 5.6127824}      |[CSOP_ORDERABLE]                |false   |https://www.colruyt.be/nl/colruyt-openingsuren/4125|877    |[{2000, 18-03-2024, true, false, 830}]                                     |{1, Winkel, Winkel}|https://maps.apple.com/?daddr=50.6074402,5.6127824           |[QUALITY]          |IN          |[{22-01-2024, 17-03-2024}]|clp  |{CHENEE, BE, België, gAAAAABl8tiZwvLNzz4L8KaT7A6GxyovEBBYd7Yisbrbw4XwKVqK3t5k4JUjNv_1w-L6ZvnASJ_rSn4uOKv7-zK82xzHyJPYpQ==, 4032, gAAAAABl8tiZORqBGJUAMeCVAJ2JadrEOWARlrVB6Tpi-mJ7mrr5SDJdci89cfAFxurXvUqb6SDrNBvjbVcPDTyyGbk_Qk8hE8oWHA5MVvBYO-TnsAR3lo8=}                        |4125    |\n",
            "|BRUGGE SINT-ANDRIES (COLRUYT) |{8, COLR_Colruyt}|{51.1987583, 3.1885507}      |[CSOP_ORDERABLE, PREPAID_PARCEL]|true    |https://www.colruyt.be/nl/colruyt-openingsuren/3566|631    |[{2000, 14-03-2024, true, true, 830}, {2100, 15-03-2024, true, false, 830}]|{1, Winkel, Winkel}|https://maps.apple.com/?daddr=51.1987583,3.1885507           |[QUALITY, 3RDPARTY]|AC          |[]                        |clp  |{SINT-ANDRIES, BE, België, gAAAAABl8tiZnbqJ71S3q29g0ThyfTFhs3gcjDuu0awORbrfCYrfQbviyFYhEaaqMV2JmLN8cAdmkT45-QmkAc-QmhE4rmCMCg==, 8200, gAAAAABl8tiZAxDV3mWl2zYXNcDCr48hLoFpvl9rpk8LCG77F_TTp_MaOPaMjPvtdPZuvxSNGpu8--wL6KT7EX-nI79bNRYNdFZDuazu7E2vSDMjmXc7hvM=}                  |3566    |\n",
            "|SINT-NIKLAAS NIJVERH. COLRUYT |{8, COLR_Colruyt}|{51.1705699, 4.1359718}      |[CSOP_ORDERABLE, PREPAID_PARCEL]|true    |https://www.colruyt.be/nl/colruyt-openingsuren/3082|453    |[{2000, 14-03-2024, true, true, 830}, {2100, 15-03-2024, true, false, 830}]|{1, Winkel, Winkel}|https://maps.apple.com/?daddr=51.1705699,4.1359718           |[QUALITY, 3RDPARTY]|AC          |[]                        |clp  |{SINT-NIKLAAS, BE, België, gAAAAABl8tiZWjjheeIHrxwl1m6FuRZIzp-ttt9pTryE0ni2TayiC2zoQhE-dT6lEydPQOI9RnLrfUuyhTYCRYfnpra8YXFAVQ==, 9100, gAAAAABl8tiZGFU86vqVEa0kuq8vSTVasjbhZz8GXNa5vQK42Kn5_lzAXaIjnqJ509KTLjaQhakALho8lzIBbdW1Q9ISyjgLTmmOSnYM4eUknkAmfpYGonU=}                  |3082    |\n",
            "|COURCELLES (COLRUYT)          |{8, COLR_Colruyt}|{50.462728708, 4.354385335}  |[PREPAID_PARCEL, CSOP_ORDERABLE]|true    |https://www.colruyt.be/nl/colruyt-openingsuren/7345|2717   |[{2000, 14-03-2024, true, true, 830}, {2100, 15-03-2024, true, false, 830}]|{1, Winkel, Winkel}|https://maps.apple.com/?daddr=50.462728708000,4.3543853350000|[QUALITY, 3RDPARTY]|AC          |[]                        |clp  |{COURCELLES, BE, België, gAAAAABl8tiZzsdXNy_fqpa1uo3MiJ7j1tciLw7RseuRwFNGJkUHSmAKSPdBg1wupGFdNgySrottCS_4tt23ZlQeToYGsfOEYw==, 6180, gAAAAABl8tiZIoy-YgLUwlKuso85dF6FOnegYply4D8bG3IovV4_KU0BtVko56QJHFjbKVor8b5gTu0N39O4jm1Lqa9PfbfDoET55NBVdfcPZ9_0HS1NkM4=}                    |7345    |\n",
            "|SINT-AMANDSBERG (COLRUYT)     |{8, COLR_Colruyt}|{51.0521888, 3.7529881}      |[PREPAID_PARCEL, CSOP_ORDERABLE]|true    |https://www.colruyt.be/nl/colruyt-openingsuren/3815|762    |[{2000, 14-03-2024, true, true, 830}, {2100, 15-03-2024, true, false, 830}]|{1, Winkel, Winkel}|https://maps.apple.com/?daddr=51.0521888,3.7529881           |[QUALITY, 3RDPARTY]|AC          |[]                        |clp  |{SINT-AMANDSBERG, BE, België, gAAAAABl8tiZPbM6SWdSpZ_JxdxXAGO9az22kesBHHATYeVHDRRasPRlqG5yPFvCQzQTZWGpII_LU5poPsnBuV4GPyKb7HFgZw==, 9040, gAAAAABl8tiZoDbnEypuMFED42e-Fzx47RxJ4XPPKLiDO1WsQCGy-fRPgnagunT8vnOy40aX1pJmZEp1Wk02LnS6dDviPn4mZKuX0hMVlN4SOjKON_M0WqE=}               |3815    |\n",
            "|BRAINE-L'ALLEUD (COLRUYT)     |{8, COLR_Colruyt}|{50.6944836, 4.3654116}      |[CSOP_ORDERABLE, PREPAID_PARCEL]|true    |https://www.colruyt.be/nl/colruyt-openingsuren/4476|1713   |[{2000, 14-03-2024, true, true, 830}, {2100, 15-03-2024, true, false, 830}]|{1, Winkel, Winkel}|https://maps.apple.com/?daddr=50.6944836,4.3654116           |[QUALITY, 3RDPARTY]|AC          |[]                        |clp  |{BRAINE-L'ALLEUD, BE, België, gAAAAABl8tiZ0fbypUBOTQkxwY382LUQ454yC_bdHZfrBjHHLlhuscYHwP-d5Q3NcHzYrgCB31XscDJRMNiCQaGbcnnXw_oA0A==, 1420, gAAAAABl8tiZw_AFgtoyxvzJuvPKg9jKE-07aTqNnywkWSNjnTcCsQvTD2Ay_H3itMb0eiMreIpv-o5kHL5hvvFq0UvD50lpsfgWiQyZDsfUf0gzieGLvR8=}               |4476    |\n",
            "|OTTIGNIES (LE DOUAIRE) COLRUYT|{8, COLR_Colruyt}|{50.6632026, 4.5670411}      |[CSOP_ORDERABLE, PREPAID_PARCEL]|true    |https://www.colruyt.be/nl/colruyt-openingsuren/3583|641    |[{2000, 14-03-2024, true, true, 830}, {2100, 15-03-2024, true, false, 830}]|{1, Winkel, Winkel}|https://maps.apple.com/?daddr=50.6632026,4.5670411           |[QUALITY, 3RDPARTY]|AC          |[]                        |clp  |{OTTIGNIES, BE, België, gAAAAABl8tiZESYv7XLdCZT7uDPft7qH3B9T7kxZAwf8PF7ibxiLh5YM-bNr1G8NQ3W4E_Bz2Yi_JVY8c7X5RKutCQbHIEtKEQ==, 1340, gAAAAABl8tiZWenh9oC0rCkckjFEgMxDe3d0Db6SW1s3B9AMAy7FZT1HkPoODySeFOmcGu2F61t-O7XtEqt3wzrKo17R1EfyT6MaSly-BaLv5UVKhfgc1Zo=}                     |3583    |\n",
            "+------------------------------+-----------------+-----------------------------+--------------------------------+--------+---------------------------------------------------+-------+---------------------------------------------------------------------------+-------------------+-------------------------------------------------------------+-------------------+------------+--------------------------+-----+----------------------------------------------------------------------------------------------------------------------------------------------------------------------------------------------------------------------------------------------------------------------------------+--------+\n",
            "only showing top 20 rows\n",
            "\n"
          ]
        }
      ],
      "source": [
        "# read data back\n",
        "LOGGER.info(\"reading brands parquet file %s\", parquet_filename)\n",
        "df_gdpr = spark.read.parquet(parquet_filename)\n",
        "\n",
        "df_gdpr.show(truncate=False)"
      ]
    },
    {
      "cell_type": "code",
      "execution_count": 226,
      "metadata": {
        "colab": {
          "base_uri": "https://localhost:8080/"
        },
        "id": "gPURmP95B1Aa",
        "outputId": "0c6f5f34-ed27-4c0f-db1b-cb93b5c51653"
      },
      "outputs": [
        {
          "output_type": "stream",
          "name": "stderr",
          "text": [
            "INFO:pyspark_exercise:decrypting address using AES key RSxNI838DKITN7PpCdl8xXqyou32nI58BUTJ********\n",
            "decrypting address using AES key RSxNI838DKITN7PpCdl8xXqyou32nI58BUTJ********\n"
          ]
        },
        {
          "output_type": "stream",
          "name": "stdout",
          "text": [
            "decrypting address using AES key RSxNI838DKITN7PpCdl8xXqyou32nI58BUTJ********\n",
            "decrypting address using AES key RSxNI838DKITN7PpCdl8xXqyou32nI58BUTJ********\n",
            "+-------------------------------------------------------------------------+\n",
            "|address                                                                  |\n",
            "+-------------------------------------------------------------------------+\n",
            "|{POMMERLOCH, LU, Luxemburg (Groothertogdom), 26, 9638, BASTNICHERSTROOSS}|\n",
            "|{MARCHIENNE-AU-PONT, BE, België, 43, 6030, RUE LIEUTEN.GEN.GILLAIN}      |\n",
            "|{SINT-DENIJS-WESTREM, BE, België, 1238, 9051, KORTRIJKSESTEENWEG}        |\n",
            "|{NIEUWPOORT, BE, België, 33-A, 8620, JOZEF CARDIJNLAAN}                  |\n",
            "|{STRASSEN, LU, Luxemburg (Groothertogdom), 2, 8008, ROUTE D'ARLON}       |\n",
            "|{ANDERLUES, BE, België, 4, 6150, RUE DE LA STATION}                      |\n",
            "|{ST-PIETERS-WOLUWE, BE, België, 5, 1150, PIERRE DE COCKSTRAAT}           |\n",
            "|{ANDERLECHT, BE, België, 824, 1070, BERGENSESTEENWEG}                    |\n",
            "|{DEURNE (ANTWERPEN), BE, België, 601, 2100, RUGGEVELDLAAN}               |\n",
            "|{SINT-PIETERS-LEEUW, BE, België, 201, 1600, BERGENSESTEENWEG}            |\n",
            "|{MARCHE-EN-FAMENNE, BE, België, 10, 6900, VIEILLE ROUTE DE LIEGE}        |\n",
            "|{HEIST-OP-DEN-BERG, BE, België, 40, 2220, MECHELSESTEENWEG}              |\n",
            "|{LA LOUVIERE, BE, België, 30, 7100, RUE DE BAUME-MARPENT}                |\n",
            "|{CHENEE, BE, België, 16, 4032, RUE DE BEAUFRAIPONT}                      |\n",
            "|{SINT-ANDRIES, BE, België, 345, 8200, GISTELSE STEENWEG}                 |\n",
            "|{SINT-NIKLAAS, BE, België, 54, 9100, NIJVERHEIDSSTRAAT}                  |\n",
            "|{COURCELLES, BE, België, 154, 6180, RUE DE TRAZEGNIES}                   |\n",
            "|{SINT-AMANDSBERG, BE, België, 409, 9040, DENDERMONDSESTEENWEG}           |\n",
            "|{BRAINE-L'ALLEUD, BE, België, 50, 1420, RUE DU JARDINIER}                |\n",
            "|{OTTIGNIES, BE, België, 2038, 1340, AVENUE DU DOUAIRE}                   |\n",
            "+-------------------------------------------------------------------------+\n",
            "only showing top 20 rows\n",
            "\n"
          ]
        }
      ],
      "source": [
        "# read key back from fs and vault, and re-init codec with the key\n",
        "\n",
        "codec_fs = FernetCodec.from_key(aes_filename)\n",
        "codec_colab = FernetCodec(get_aes_key_from_vault())\n",
        "\n",
        "assert codec_fs.key == codec_colab.key\n",
        "\n",
        "addr_codec = AddressCodec(codec)\n",
        "\n",
        "decryptUDF = udf(lambda addr: addr_codec.decode_address_aslist(addr), BrandInfo.AddressType)\n",
        "\n",
        "LOGGER.info(\"decrypting address using AES key %s\", codec.key)\n",
        "\n",
        "# finally, decode the GDPR data to make it human-readable\n",
        "df_clp = df_gdpr.withColumn(\"address\", decryptUDF(col(\"gdpr_address\"))).drop(\"gdpr_address\")\n",
        "df_clp[[\"address\"]].show(truncate=False)"
      ]
    },
    {
      "cell_type": "markdown",
      "source": [
        "End of notebook."
      ],
      "metadata": {
        "id": "1jq-36u7GCCt"
      }
    }
  ],
  "metadata": {
    "colab": {
      "provenance": [],
      "include_colab_link": true
    },
    "kernelspec": {
      "display_name": "Python 3 (ipykernel)",
      "language": "python",
      "name": "python3"
    },
    "language_info": {
      "codemirror_mode": {
        "name": "ipython",
        "version": 3
      },
      "file_extension": ".py",
      "mimetype": "text/x-python",
      "name": "python",
      "nbconvert_exporter": "python",
      "pygments_lexer": "ipython3",
      "version": "3.11.7"
    }
  },
  "nbformat": 4,
  "nbformat_minor": 0
}